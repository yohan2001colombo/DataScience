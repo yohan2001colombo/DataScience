{
  "nbformat": 4,
  "nbformat_minor": 0,
  "metadata": {
    "colab": {
      "provenance": [],
      "authorship_tag": "ABX9TyMMtCCJcRM9s2hmPc9eg2m7",
      "include_colab_link": true
    },
    "kernelspec": {
      "name": "python3",
      "display_name": "Python 3"
    },
    "language_info": {
      "name": "python"
    }
  },
  "cells": [
    {
      "cell_type": "markdown",
      "metadata": {
        "id": "view-in-github",
        "colab_type": "text"
      },
      "source": [
        "<a href=\"https://colab.research.google.com/github/yohan2001colombo/DataScience/blob/main/Brownian_hw.ipynb\" target=\"_parent\"><img src=\"https://colab.research.google.com/assets/colab-badge.svg\" alt=\"Open In Colab\"/></a>"
      ]
    },
    {
      "cell_type": "code",
      "execution_count": 49,
      "metadata": {
        "id": "ufebLVHI__Zk"
      },
      "outputs": [],
      "source": [
        "import numpy as np\n",
        "import pandas as pd\n",
        "from scipy.stats import shapiro\n",
        "import matplotlib.pyplot as plt\n",
        "import scipy.stats as stats\n"
      ]
    },
    {
      "cell_type": "code",
      "source": [
        "#!pip install kaggle\n",
        "from google.colab import files\n",
        "data = files.upload()"
      ],
      "metadata": {
        "colab": {
          "base_uri": "https://localhost:8080/",
          "height": 73
        },
        "id": "PVH6haGhAJPd",
        "outputId": "8549d88e-ab3b-4d57-84ba-9b4523729613"
      },
      "execution_count": 2,
      "outputs": [
        {
          "output_type": "display_data",
          "data": {
            "text/plain": [
              "<IPython.core.display.HTML object>"
            ],
            "text/html": [
              "\n",
              "     <input type=\"file\" id=\"files-38c219d0-0703-458e-907f-336e4a30f6e7\" name=\"files[]\" multiple disabled\n",
              "        style=\"border:none\" />\n",
              "     <output id=\"result-38c219d0-0703-458e-907f-336e4a30f6e7\">\n",
              "      Upload widget is only available when the cell has been executed in the\n",
              "      current browser session. Please rerun this cell to enable.\n",
              "      </output>\n",
              "      <script>// Copyright 2017 Google LLC\n",
              "//\n",
              "// Licensed under the Apache License, Version 2.0 (the \"License\");\n",
              "// you may not use this file except in compliance with the License.\n",
              "// You may obtain a copy of the License at\n",
              "//\n",
              "//      http://www.apache.org/licenses/LICENSE-2.0\n",
              "//\n",
              "// Unless required by applicable law or agreed to in writing, software\n",
              "// distributed under the License is distributed on an \"AS IS\" BASIS,\n",
              "// WITHOUT WARRANTIES OR CONDITIONS OF ANY KIND, either express or implied.\n",
              "// See the License for the specific language governing permissions and\n",
              "// limitations under the License.\n",
              "\n",
              "/**\n",
              " * @fileoverview Helpers for google.colab Python module.\n",
              " */\n",
              "(function(scope) {\n",
              "function span(text, styleAttributes = {}) {\n",
              "  const element = document.createElement('span');\n",
              "  element.textContent = text;\n",
              "  for (const key of Object.keys(styleAttributes)) {\n",
              "    element.style[key] = styleAttributes[key];\n",
              "  }\n",
              "  return element;\n",
              "}\n",
              "\n",
              "// Max number of bytes which will be uploaded at a time.\n",
              "const MAX_PAYLOAD_SIZE = 100 * 1024;\n",
              "\n",
              "function _uploadFiles(inputId, outputId) {\n",
              "  const steps = uploadFilesStep(inputId, outputId);\n",
              "  const outputElement = document.getElementById(outputId);\n",
              "  // Cache steps on the outputElement to make it available for the next call\n",
              "  // to uploadFilesContinue from Python.\n",
              "  outputElement.steps = steps;\n",
              "\n",
              "  return _uploadFilesContinue(outputId);\n",
              "}\n",
              "\n",
              "// This is roughly an async generator (not supported in the browser yet),\n",
              "// where there are multiple asynchronous steps and the Python side is going\n",
              "// to poll for completion of each step.\n",
              "// This uses a Promise to block the python side on completion of each step,\n",
              "// then passes the result of the previous step as the input to the next step.\n",
              "function _uploadFilesContinue(outputId) {\n",
              "  const outputElement = document.getElementById(outputId);\n",
              "  const steps = outputElement.steps;\n",
              "\n",
              "  const next = steps.next(outputElement.lastPromiseValue);\n",
              "  return Promise.resolve(next.value.promise).then((value) => {\n",
              "    // Cache the last promise value to make it available to the next\n",
              "    // step of the generator.\n",
              "    outputElement.lastPromiseValue = value;\n",
              "    return next.value.response;\n",
              "  });\n",
              "}\n",
              "\n",
              "/**\n",
              " * Generator function which is called between each async step of the upload\n",
              " * process.\n",
              " * @param {string} inputId Element ID of the input file picker element.\n",
              " * @param {string} outputId Element ID of the output display.\n",
              " * @return {!Iterable<!Object>} Iterable of next steps.\n",
              " */\n",
              "function* uploadFilesStep(inputId, outputId) {\n",
              "  const inputElement = document.getElementById(inputId);\n",
              "  inputElement.disabled = false;\n",
              "\n",
              "  const outputElement = document.getElementById(outputId);\n",
              "  outputElement.innerHTML = '';\n",
              "\n",
              "  const pickedPromise = new Promise((resolve) => {\n",
              "    inputElement.addEventListener('change', (e) => {\n",
              "      resolve(e.target.files);\n",
              "    });\n",
              "  });\n",
              "\n",
              "  const cancel = document.createElement('button');\n",
              "  inputElement.parentElement.appendChild(cancel);\n",
              "  cancel.textContent = 'Cancel upload';\n",
              "  const cancelPromise = new Promise((resolve) => {\n",
              "    cancel.onclick = () => {\n",
              "      resolve(null);\n",
              "    };\n",
              "  });\n",
              "\n",
              "  // Wait for the user to pick the files.\n",
              "  const files = yield {\n",
              "    promise: Promise.race([pickedPromise, cancelPromise]),\n",
              "    response: {\n",
              "      action: 'starting',\n",
              "    }\n",
              "  };\n",
              "\n",
              "  cancel.remove();\n",
              "\n",
              "  // Disable the input element since further picks are not allowed.\n",
              "  inputElement.disabled = true;\n",
              "\n",
              "  if (!files) {\n",
              "    return {\n",
              "      response: {\n",
              "        action: 'complete',\n",
              "      }\n",
              "    };\n",
              "  }\n",
              "\n",
              "  for (const file of files) {\n",
              "    const li = document.createElement('li');\n",
              "    li.append(span(file.name, {fontWeight: 'bold'}));\n",
              "    li.append(span(\n",
              "        `(${file.type || 'n/a'}) - ${file.size} bytes, ` +\n",
              "        `last modified: ${\n",
              "            file.lastModifiedDate ? file.lastModifiedDate.toLocaleDateString() :\n",
              "                                    'n/a'} - `));\n",
              "    const percent = span('0% done');\n",
              "    li.appendChild(percent);\n",
              "\n",
              "    outputElement.appendChild(li);\n",
              "\n",
              "    const fileDataPromise = new Promise((resolve) => {\n",
              "      const reader = new FileReader();\n",
              "      reader.onload = (e) => {\n",
              "        resolve(e.target.result);\n",
              "      };\n",
              "      reader.readAsArrayBuffer(file);\n",
              "    });\n",
              "    // Wait for the data to be ready.\n",
              "    let fileData = yield {\n",
              "      promise: fileDataPromise,\n",
              "      response: {\n",
              "        action: 'continue',\n",
              "      }\n",
              "    };\n",
              "\n",
              "    // Use a chunked sending to avoid message size limits. See b/62115660.\n",
              "    let position = 0;\n",
              "    do {\n",
              "      const length = Math.min(fileData.byteLength - position, MAX_PAYLOAD_SIZE);\n",
              "      const chunk = new Uint8Array(fileData, position, length);\n",
              "      position += length;\n",
              "\n",
              "      const base64 = btoa(String.fromCharCode.apply(null, chunk));\n",
              "      yield {\n",
              "        response: {\n",
              "          action: 'append',\n",
              "          file: file.name,\n",
              "          data: base64,\n",
              "        },\n",
              "      };\n",
              "\n",
              "      let percentDone = fileData.byteLength === 0 ?\n",
              "          100 :\n",
              "          Math.round((position / fileData.byteLength) * 100);\n",
              "      percent.textContent = `${percentDone}% done`;\n",
              "\n",
              "    } while (position < fileData.byteLength);\n",
              "  }\n",
              "\n",
              "  // All done.\n",
              "  yield {\n",
              "    response: {\n",
              "      action: 'complete',\n",
              "    }\n",
              "  };\n",
              "}\n",
              "\n",
              "scope.google = scope.google || {};\n",
              "scope.google.colab = scope.google.colab || {};\n",
              "scope.google.colab._files = {\n",
              "  _uploadFiles,\n",
              "  _uploadFilesContinue,\n",
              "};\n",
              "})(self);\n",
              "</script> "
            ]
          },
          "metadata": {}
        },
        {
          "output_type": "stream",
          "name": "stdout",
          "text": [
            "Saving Talawakelle Tea Estate Stock Price History.csv to Talawakelle Tea Estate Stock Price History.csv\n"
          ]
        }
      ]
    },
    {
      "cell_type": "code",
      "source": [
        "import pandas as pd\n",
        "df = pd.read_csv(\"Talawakelle Tea Estate Stock Price History.csv\")\n",
        "print(df.head())"
      ],
      "metadata": {
        "colab": {
          "base_uri": "https://localhost:8080/"
        },
        "id": "7ZLcFuyVCL4H",
        "outputId": "4d047930-1acf-440f-8ff1-9c29b9c09df3"
      },
      "execution_count": 5,
      "outputs": [
        {
          "output_type": "stream",
          "name": "stdout",
          "text": [
            "        Date  Closing Price\n",
            "0  10/3/2022           98.8\n",
            "1  10/4/2022           94.5\n",
            "2  10/5/2022           98.7\n",
            "3  10/6/2022           98.5\n",
            "4  10/7/2022          100.0\n"
          ]
        }
      ]
    },
    {
      "cell_type": "code",
      "source": [
        "len(df)"
      ],
      "metadata": {
        "colab": {
          "base_uri": "https://localhost:8080/"
        },
        "id": "XvTBUapkSsN6",
        "outputId": "5e643e7a-1793-46ea-a95e-8bb465b6f048"
      },
      "execution_count": 8,
      "outputs": [
        {
          "output_type": "execute_result",
          "data": {
            "text/plain": [
              "480"
            ]
          },
          "metadata": {},
          "execution_count": 8
        }
      ]
    },
    {
      "cell_type": "code",
      "source": [
        "# a)\n",
        "df[\"time_index\"] = range(len(df))  # Starts at 0, increments by 1"
      ],
      "metadata": {
        "id": "khlgfOYlAPiu"
      },
      "execution_count": 16,
      "outputs": []
    },
    {
      "cell_type": "code",
      "source": [
        "df.head()"
      ],
      "metadata": {
        "colab": {
          "base_uri": "https://localhost:8080/",
          "height": 206
        },
        "id": "MhiuKxDLFOqW",
        "outputId": "0b88ff3e-b914-44a2-f211-89503bf5b728"
      },
      "execution_count": 17,
      "outputs": [
        {
          "output_type": "execute_result",
          "data": {
            "text/plain": [
              "        Date  Closing Price  time_index\n",
              "0  10/3/2022           98.8           0\n",
              "1  10/4/2022           94.5           1\n",
              "2  10/5/2022           98.7           2\n",
              "3  10/6/2022           98.5           3\n",
              "4  10/7/2022          100.0           4"
            ],
            "text/html": [
              "\n",
              "  <div id=\"df-a02666b9-0b70-4c5e-a4b8-fa87b0399e8c\" class=\"colab-df-container\">\n",
              "    <div>\n",
              "<style scoped>\n",
              "    .dataframe tbody tr th:only-of-type {\n",
              "        vertical-align: middle;\n",
              "    }\n",
              "\n",
              "    .dataframe tbody tr th {\n",
              "        vertical-align: top;\n",
              "    }\n",
              "\n",
              "    .dataframe thead th {\n",
              "        text-align: right;\n",
              "    }\n",
              "</style>\n",
              "<table border=\"1\" class=\"dataframe\">\n",
              "  <thead>\n",
              "    <tr style=\"text-align: right;\">\n",
              "      <th></th>\n",
              "      <th>Date</th>\n",
              "      <th>Closing Price</th>\n",
              "      <th>time_index</th>\n",
              "    </tr>\n",
              "  </thead>\n",
              "  <tbody>\n",
              "    <tr>\n",
              "      <th>0</th>\n",
              "      <td>10/3/2022</td>\n",
              "      <td>98.8</td>\n",
              "      <td>0</td>\n",
              "    </tr>\n",
              "    <tr>\n",
              "      <th>1</th>\n",
              "      <td>10/4/2022</td>\n",
              "      <td>94.5</td>\n",
              "      <td>1</td>\n",
              "    </tr>\n",
              "    <tr>\n",
              "      <th>2</th>\n",
              "      <td>10/5/2022</td>\n",
              "      <td>98.7</td>\n",
              "      <td>2</td>\n",
              "    </tr>\n",
              "    <tr>\n",
              "      <th>3</th>\n",
              "      <td>10/6/2022</td>\n",
              "      <td>98.5</td>\n",
              "      <td>3</td>\n",
              "    </tr>\n",
              "    <tr>\n",
              "      <th>4</th>\n",
              "      <td>10/7/2022</td>\n",
              "      <td>100.0</td>\n",
              "      <td>4</td>\n",
              "    </tr>\n",
              "  </tbody>\n",
              "</table>\n",
              "</div>\n",
              "    <div class=\"colab-df-buttons\">\n",
              "\n",
              "  <div class=\"colab-df-container\">\n",
              "    <button class=\"colab-df-convert\" onclick=\"convertToInteractive('df-a02666b9-0b70-4c5e-a4b8-fa87b0399e8c')\"\n",
              "            title=\"Convert this dataframe to an interactive table.\"\n",
              "            style=\"display:none;\">\n",
              "\n",
              "  <svg xmlns=\"http://www.w3.org/2000/svg\" height=\"24px\" viewBox=\"0 -960 960 960\">\n",
              "    <path d=\"M120-120v-720h720v720H120Zm60-500h600v-160H180v160Zm220 220h160v-160H400v160Zm0 220h160v-160H400v160ZM180-400h160v-160H180v160Zm440 0h160v-160H620v160ZM180-180h160v-160H180v160Zm440 0h160v-160H620v160Z\"/>\n",
              "  </svg>\n",
              "    </button>\n",
              "\n",
              "  <style>\n",
              "    .colab-df-container {\n",
              "      display:flex;\n",
              "      gap: 12px;\n",
              "    }\n",
              "\n",
              "    .colab-df-convert {\n",
              "      background-color: #E8F0FE;\n",
              "      border: none;\n",
              "      border-radius: 50%;\n",
              "      cursor: pointer;\n",
              "      display: none;\n",
              "      fill: #1967D2;\n",
              "      height: 32px;\n",
              "      padding: 0 0 0 0;\n",
              "      width: 32px;\n",
              "    }\n",
              "\n",
              "    .colab-df-convert:hover {\n",
              "      background-color: #E2EBFA;\n",
              "      box-shadow: 0px 1px 2px rgba(60, 64, 67, 0.3), 0px 1px 3px 1px rgba(60, 64, 67, 0.15);\n",
              "      fill: #174EA6;\n",
              "    }\n",
              "\n",
              "    .colab-df-buttons div {\n",
              "      margin-bottom: 4px;\n",
              "    }\n",
              "\n",
              "    [theme=dark] .colab-df-convert {\n",
              "      background-color: #3B4455;\n",
              "      fill: #D2E3FC;\n",
              "    }\n",
              "\n",
              "    [theme=dark] .colab-df-convert:hover {\n",
              "      background-color: #434B5C;\n",
              "      box-shadow: 0px 1px 3px 1px rgba(0, 0, 0, 0.15);\n",
              "      filter: drop-shadow(0px 1px 2px rgba(0, 0, 0, 0.3));\n",
              "      fill: #FFFFFF;\n",
              "    }\n",
              "  </style>\n",
              "\n",
              "    <script>\n",
              "      const buttonEl =\n",
              "        document.querySelector('#df-a02666b9-0b70-4c5e-a4b8-fa87b0399e8c button.colab-df-convert');\n",
              "      buttonEl.style.display =\n",
              "        google.colab.kernel.accessAllowed ? 'block' : 'none';\n",
              "\n",
              "      async function convertToInteractive(key) {\n",
              "        const element = document.querySelector('#df-a02666b9-0b70-4c5e-a4b8-fa87b0399e8c');\n",
              "        const dataTable =\n",
              "          await google.colab.kernel.invokeFunction('convertToInteractive',\n",
              "                                                    [key], {});\n",
              "        if (!dataTable) return;\n",
              "\n",
              "        const docLinkHtml = 'Like what you see? Visit the ' +\n",
              "          '<a target=\"_blank\" href=https://colab.research.google.com/notebooks/data_table.ipynb>data table notebook</a>'\n",
              "          + ' to learn more about interactive tables.';\n",
              "        element.innerHTML = '';\n",
              "        dataTable['output_type'] = 'display_data';\n",
              "        await google.colab.output.renderOutput(dataTable, element);\n",
              "        const docLink = document.createElement('div');\n",
              "        docLink.innerHTML = docLinkHtml;\n",
              "        element.appendChild(docLink);\n",
              "      }\n",
              "    </script>\n",
              "  </div>\n",
              "\n",
              "\n",
              "    <div id=\"df-ee784ed8-b533-4c94-a01b-ed04e9f74695\">\n",
              "      <button class=\"colab-df-quickchart\" onclick=\"quickchart('df-ee784ed8-b533-4c94-a01b-ed04e9f74695')\"\n",
              "                title=\"Suggest charts\"\n",
              "                style=\"display:none;\">\n",
              "\n",
              "<svg xmlns=\"http://www.w3.org/2000/svg\" height=\"24px\"viewBox=\"0 0 24 24\"\n",
              "     width=\"24px\">\n",
              "    <g>\n",
              "        <path d=\"M19 3H5c-1.1 0-2 .9-2 2v14c0 1.1.9 2 2 2h14c1.1 0 2-.9 2-2V5c0-1.1-.9-2-2-2zM9 17H7v-7h2v7zm4 0h-2V7h2v10zm4 0h-2v-4h2v4z\"/>\n",
              "    </g>\n",
              "</svg>\n",
              "      </button>\n",
              "\n",
              "<style>\n",
              "  .colab-df-quickchart {\n",
              "      --bg-color: #E8F0FE;\n",
              "      --fill-color: #1967D2;\n",
              "      --hover-bg-color: #E2EBFA;\n",
              "      --hover-fill-color: #174EA6;\n",
              "      --disabled-fill-color: #AAA;\n",
              "      --disabled-bg-color: #DDD;\n",
              "  }\n",
              "\n",
              "  [theme=dark] .colab-df-quickchart {\n",
              "      --bg-color: #3B4455;\n",
              "      --fill-color: #D2E3FC;\n",
              "      --hover-bg-color: #434B5C;\n",
              "      --hover-fill-color: #FFFFFF;\n",
              "      --disabled-bg-color: #3B4455;\n",
              "      --disabled-fill-color: #666;\n",
              "  }\n",
              "\n",
              "  .colab-df-quickchart {\n",
              "    background-color: var(--bg-color);\n",
              "    border: none;\n",
              "    border-radius: 50%;\n",
              "    cursor: pointer;\n",
              "    display: none;\n",
              "    fill: var(--fill-color);\n",
              "    height: 32px;\n",
              "    padding: 0;\n",
              "    width: 32px;\n",
              "  }\n",
              "\n",
              "  .colab-df-quickchart:hover {\n",
              "    background-color: var(--hover-bg-color);\n",
              "    box-shadow: 0 1px 2px rgba(60, 64, 67, 0.3), 0 1px 3px 1px rgba(60, 64, 67, 0.15);\n",
              "    fill: var(--button-hover-fill-color);\n",
              "  }\n",
              "\n",
              "  .colab-df-quickchart-complete:disabled,\n",
              "  .colab-df-quickchart-complete:disabled:hover {\n",
              "    background-color: var(--disabled-bg-color);\n",
              "    fill: var(--disabled-fill-color);\n",
              "    box-shadow: none;\n",
              "  }\n",
              "\n",
              "  .colab-df-spinner {\n",
              "    border: 2px solid var(--fill-color);\n",
              "    border-color: transparent;\n",
              "    border-bottom-color: var(--fill-color);\n",
              "    animation:\n",
              "      spin 1s steps(1) infinite;\n",
              "  }\n",
              "\n",
              "  @keyframes spin {\n",
              "    0% {\n",
              "      border-color: transparent;\n",
              "      border-bottom-color: var(--fill-color);\n",
              "      border-left-color: var(--fill-color);\n",
              "    }\n",
              "    20% {\n",
              "      border-color: transparent;\n",
              "      border-left-color: var(--fill-color);\n",
              "      border-top-color: var(--fill-color);\n",
              "    }\n",
              "    30% {\n",
              "      border-color: transparent;\n",
              "      border-left-color: var(--fill-color);\n",
              "      border-top-color: var(--fill-color);\n",
              "      border-right-color: var(--fill-color);\n",
              "    }\n",
              "    40% {\n",
              "      border-color: transparent;\n",
              "      border-right-color: var(--fill-color);\n",
              "      border-top-color: var(--fill-color);\n",
              "    }\n",
              "    60% {\n",
              "      border-color: transparent;\n",
              "      border-right-color: var(--fill-color);\n",
              "    }\n",
              "    80% {\n",
              "      border-color: transparent;\n",
              "      border-right-color: var(--fill-color);\n",
              "      border-bottom-color: var(--fill-color);\n",
              "    }\n",
              "    90% {\n",
              "      border-color: transparent;\n",
              "      border-bottom-color: var(--fill-color);\n",
              "    }\n",
              "  }\n",
              "</style>\n",
              "\n",
              "      <script>\n",
              "        async function quickchart(key) {\n",
              "          const quickchartButtonEl =\n",
              "            document.querySelector('#' + key + ' button');\n",
              "          quickchartButtonEl.disabled = true;  // To prevent multiple clicks.\n",
              "          quickchartButtonEl.classList.add('colab-df-spinner');\n",
              "          try {\n",
              "            const charts = await google.colab.kernel.invokeFunction(\n",
              "                'suggestCharts', [key], {});\n",
              "          } catch (error) {\n",
              "            console.error('Error during call to suggestCharts:', error);\n",
              "          }\n",
              "          quickchartButtonEl.classList.remove('colab-df-spinner');\n",
              "          quickchartButtonEl.classList.add('colab-df-quickchart-complete');\n",
              "        }\n",
              "        (() => {\n",
              "          let quickchartButtonEl =\n",
              "            document.querySelector('#df-ee784ed8-b533-4c94-a01b-ed04e9f74695 button');\n",
              "          quickchartButtonEl.style.display =\n",
              "            google.colab.kernel.accessAllowed ? 'block' : 'none';\n",
              "        })();\n",
              "      </script>\n",
              "    </div>\n",
              "\n",
              "    </div>\n",
              "  </div>\n"
            ],
            "application/vnd.google.colaboratory.intrinsic+json": {
              "type": "dataframe",
              "variable_name": "df",
              "summary": "{\n  \"name\": \"df\",\n  \"rows\": 480,\n  \"fields\": [\n    {\n      \"column\": \"Date\",\n      \"properties\": {\n        \"dtype\": \"object\",\n        \"num_unique_values\": 480,\n        \"samples\": [\n          \"1/24/2023\",\n          \"6/27/2024\",\n          \"5/28/2024\"\n        ],\n        \"semantic_type\": \"\",\n        \"description\": \"\"\n      }\n    },\n    {\n      \"column\": \"Closing Price\",\n      \"properties\": {\n        \"dtype\": \"number\",\n        \"std\": 13.593009195813755,\n        \"min\": 80.3,\n        \"max\": 142.5,\n        \"num_unique_values\": 179,\n        \"samples\": [\n          98.1,\n          95.0,\n          103.5\n        ],\n        \"semantic_type\": \"\",\n        \"description\": \"\"\n      }\n    },\n    {\n      \"column\": \"time_index\",\n      \"properties\": {\n        \"dtype\": \"number\",\n        \"std\": 138,\n        \"min\": 0,\n        \"max\": 479,\n        \"num_unique_values\": 480,\n        \"samples\": [\n          73,\n          414,\n          394\n        ],\n        \"semantic_type\": \"\",\n        \"description\": \"\"\n      }\n    }\n  ]\n}"
            }
          },
          "metadata": {},
          "execution_count": 17
        }
      ]
    },
    {
      "cell_type": "code",
      "source": [
        "log_returns = np.log(df[\"Closing Price\"]/df[\"Closing Price\"].shift(1)).dropna()"
      ],
      "metadata": {
        "id": "TOc8uOTEFYVc"
      },
      "execution_count": 39,
      "outputs": []
    },
    {
      "cell_type": "code",
      "source": [
        "sigma_2 = np.var(log_returns)\n",
        "mu = np.mean(log_returns) + sigma_2/2"
      ],
      "metadata": {
        "id": "Uud64CVPFlRk"
      },
      "execution_count": 42,
      "outputs": []
    },
    {
      "cell_type": "code",
      "source": [
        "# b)\n",
        "print(f\"Scale parameter: {np.sqrt(sigma_2):.4f}\")\n",
        "print(f\"Drift parameter mu: {mu:.4f}\")"
      ],
      "metadata": {
        "colab": {
          "base_uri": "https://localhost:8080/"
        },
        "id": "ZJuCRIBOGK_s",
        "outputId": "c647a311-70dc-4c05-9411-fa5b0fc5bab1"
      },
      "execution_count": 43,
      "outputs": [
        {
          "output_type": "stream",
          "name": "stdout",
          "text": [
            "Scale parameter: 0.0251\n",
            "Drift parameter mu: 0.0008\n"
          ]
        }
      ]
    },
    {
      "cell_type": "code",
      "source": [
        "# c)\n",
        "# (A) Normality test\n",
        "shapiro_stat, p_value = shapiro(log_returns)\n",
        "print(f\"Shapiro-Wilk p-value: {p_value:.4f}\")  # p < 0.05 → not normal\n"
      ],
      "metadata": {
        "colab": {
          "base_uri": "https://localhost:8080/"
        },
        "id": "GnA64vrpWltR",
        "outputId": "dda382e1-eef0-4440-b827-23d538007bb7"
      },
      "execution_count": 45,
      "outputs": [
        {
          "output_type": "stream",
          "name": "stdout",
          "text": [
            "Shapiro-Wilk p-value: 0.0000\n"
          ]
        }
      ]
    },
    {
      "cell_type": "markdown",
      "source": [
        "Shapiro-Wilk p-value of 0.0000 for TPL's log returns provides strong statistical evidence against normality"
      ],
      "metadata": {
        "id": "qYZjUKKxhVpM"
      }
    },
    {
      "cell_type": "code",
      "source": [
        "# Generate Q-Q plot\n",
        "plt.figure(figsize=(8, 6))\n",
        "stats.probplot(log_returns, dist=\"norm\", plot=plt)\n",
        "plt.title(\"Q-Q Plot of TPL Log Returns vs. Normal Distribution\")\n",
        "plt.xlabel(\"Theoretical Quantiles\")\n",
        "plt.ylabel(\"Sample Quantiles\")\n",
        "plt.grid()\n",
        "plt.show()"
      ],
      "metadata": {
        "colab": {
          "base_uri": "https://localhost:8080/",
          "height": 564
        },
        "id": "LOOhyCCxWlpo",
        "outputId": "fc1c623a-5e08-47fb-ae7e-868115c89b96"
      },
      "execution_count": 50,
      "outputs": [
        {
          "output_type": "display_data",
          "data": {
            "text/plain": [
              "<Figure size 800x600 with 1 Axes>"
            ],
            "image/png": "[encoded data removed]"
          },
          "metadata": {}
        }
      ]
    },
    {
      "cell_type": "markdown",
      "source": [
        "GBM is inappropriate for TPL’s closing prices because:\n",
        "\n",
        "* GBM assumes log returns are normally distributed, but TPL’s returns violate this.\n"
      ],
      "metadata": {
        "id": "VKK7mOo2hMc8"
      }
    },
    {
      "cell_type": "code",
      "source": [
        "from statsmodels.graphics.tsaplots import plot_acf\n",
        "\n",
        "plt.figure(figsize=(10, 4))\n",
        "plot_acf(log_returns, lags=20, alpha=0.05, title=\"ACF of TPL Log Returns\")\n",
        "plt.show()"
      ],
      "metadata": {
        "colab": {
          "base_uri": "https://localhost:8080/",
          "height": 469
        },
        "id": "OkO2JUBXWlmI",
        "outputId": "fd29c835-f72f-457a-85f9-5e500c32ef1c"
      },
      "execution_count": 56,
      "outputs": [
        {
          "output_type": "display_data",
          "data": {
            "text/plain": [
              "<Figure size 1000x400 with 0 Axes>"
            ]
          },
          "metadata": {}
        },
        {
          "output_type": "display_data",
          "data": {
            "text/plain": [
              "<Figure size 640x480 with 1 Axes>"
            ],
            "image/png": "[encoded data removed]"
          },
          "metadata": {}
        }
      ]
    },
    {
      "cell_type": "markdown",
      "source": [
        "GBM Assumption Violation:\n",
        "\n",
        "* GBM requires no autocorrelation (independent increments).\n",
        "\n",
        "* TPL shows significant autocorrelation at multiple lags → GBM is inappropriate.\n",
        "\n",
        "Market Behavior Suggested by ACF:\n",
        "\n",
        "* Positive autocorrelation (Lags 1-5):\n",
        "\n",
        "  * Short-term momentum (past returns influence future returns).\n",
        "\n",
        "  * Example: If TPL rose yesterday, it’s likely to rise today.\n",
        "\n",
        "* Negative autocorrelation (Lags 10-20):\n",
        "\n",
        "  * Long-term mean reversion (overbought/oversold reversals)."
      ],
      "metadata": {
        "id": "PfROsNuXfEn2"
      }
    },
    {
      "cell_type": "code",
      "source": [],
      "metadata": {
        "id": "SWn9dPDoWlXg"
      },
      "execution_count": null,
      "outputs": []
    },
    {
      "cell_type": "markdown",
      "source": [
        "![image.png](data:image/png;base64,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)"
      ],
      "metadata": {
        "id": "nxRdg2gDI6ZF"
      }
    },
    {
      "cell_type": "code",
      "source": [
        "# Inputs: log_returns = [r1, r2, ...], delta_t = [Δt1, Δt2, ...]\n",
        "def estimate_gbm_parameters(log_returns, delta_t, max_iter=100, tol=1e-4):\n",
        "    mu_hat = np.mean(log_returns) / np.mean(delta_t)\n",
        "    sigma2_hat = np.var(log_returns) / np.mean(delta_t)\n",
        "\n",
        "    for i in range(max_iter):\n",
        "        adj_returns = log_returns - (mu_hat - 0.5 * sigma2_hat) * delta_t\n",
        "        new_sigma2 = np.mean(adj_returns**2 / delta_t)\n",
        "        if abs(new_sigma2 - sigma2_hat) < tol:\n",
        "            break\n",
        "        sigma2_hat = new_sigma2\n",
        "        mu_hat = np.mean(log_returns / delta_t) + 0.5 * sigma2_hat\n",
        "\n",
        "    return mu_hat, np.sqrt(sigma2_hat)"
      ],
      "metadata": {
        "id": "WI0mIE77APfe"
      },
      "execution_count": null,
      "outputs": []
    },
    {
      "cell_type": "code",
      "source": [
        "mu_hat = estimate_gbm_parameters(df[\"log_returns\"], df[\"delta_t\"])[0]\n",
        "sigma_hat = estimate_gbm_parameters(df[\"log_returns\"], df[\"delta_t\"])[1]"
      ],
      "metadata": {
        "id": "aga6xDupAPbs"
      },
      "execution_count": null,
      "outputs": []
    },
    {
      "cell_type": "markdown",
      "source": [
        "There are two assumptions must\n",
        "be satisfied for GBM process. There are normality of\n",
        "the log ratios and the independence from the previous\n",
        "data."
      ],
      "metadata": {
        "id": "3PlGRXnYKGU-"
      }
    },
    {
      "cell_type": "code",
      "source": [
        "# Standardized returns (should be ~N(0,1) if GBM holds)\n",
        "log_returns = df[\"log_returns\"]\n",
        "delta_t = df[\"delta_t\"]\n",
        "\n",
        "z = (log_returns - (mu_hat - 0.5 * sigma_hat**2) * delta_t) / (sigma_hat * np.sqrt(delta_t))\n"
      ],
      "metadata": {
        "id": "9II9gWphHUeH"
      },
      "execution_count": null,
      "outputs": []
    },
    {
      "cell_type": "code",
      "source": [
        "import matplotlib.pyplot as plt\n",
        "import scipy.stats as stats\n",
        "\n",
        "stats.probplot(z, dist=\"norm\", plot=plt)\n",
        "plt.title(\"Q-Q Plot: Log Returns vs Normal Distribution\")\n",
        "plt.xlabel(\"Theoretical Quantiles (N(0,1))\")\n",
        "plt.ylabel(\"Sample Quantiles (Standardized Returns)\")\n",
        "plt.grid(True)\n",
        "plt.show()"
      ],
      "metadata": {
        "colab": {
          "base_uri": "https://localhost:8080/",
          "height": 472
        },
        "id": "nGNHPEVmLrku",
        "outputId": "004823f2-4f98-43fa-f462-044fcd810a72"
      },
      "execution_count": null,
      "outputs": [
        {
          "output_type": "display_data",
          "data": {
            "text/plain": [
              "<Figure size 640x480 with 1 Axes>"
            ],
            "image/png": "[encoded data removed]"
          },
          "metadata": {}
        }
      ]
    },
    {
      "cell_type": "code",
      "source": [
        "from scipy.stats import shapiro\n",
        "_, p_value = shapiro(z)\n",
        "print(f\"Normality p-value: {p_value}\")  # p > 0.05 → Normal"
      ],
      "metadata": {
        "colab": {
          "base_uri": "https://localhost:8080/"
        },
        "id": "fEpjsn2CLw2-",
        "outputId": "55934d30-f5f2-4734-8a2b-977927e272cf"
      },
      "execution_count": null,
      "outputs": [
        {
          "output_type": "stream",
          "name": "stdout",
          "text": [
            "Normality p-value: 8.527533227521388e-20\n"
          ]
        }
      ]
    }
  ]
}