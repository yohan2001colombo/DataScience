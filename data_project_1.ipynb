{
  "nbformat": 4,
  "nbformat_minor": 0,
  "metadata": {
    "colab": {
      "provenance": [],
      "authorship_tag": "ABX9TyPl+e7dJE2ia8NqwFIjjzSc",
      "include_colab_link": true
    },
    "kernelspec": {
      "name": "python3",
      "display_name": "Python 3"
    },
    "language_info": {
      "name": "python"
    }
  },
  "cells": [
    {
      "cell_type": "markdown",
      "metadata": {
        "id": "view-in-github",
        "colab_type": "text"
      },
      "source": [
        "<a href=\"https://colab.research.google.com/github/yohan2001colombo/DataScience/blob/main/data_project_1.ipynb\" target=\"_parent\"><img src=\"https://colab.research.google.com/assets/colab-badge.svg\" alt=\"Open In Colab\"/></a>"
      ]
    },
    {
      "cell_type": "code",
      "execution_count": 196,
      "metadata": {
        "id": "_3MeQ-hnFnPs"
      },
      "outputs": [],
      "source": [
        "# import the library\n",
        "import pandas as pd\n",
        "import numpy as np\n",
        "\n",
        "from sklearn.preprocessing import OrdinalEncoder\n",
        "from sklearn.model_selection import train_test_split,GridSearchCV,RandomizedSearchCV\n",
        "from scipy.stats import randint\n",
        "from sklearn.metrics import (roc_auc_score, precision_score, recall_score,\n",
        "                            f1_score, accuracy_score, confusion_matrix)\n",
        "\n",
        "from scipy.stats import chi2_contingency, ks_2samp\n",
        "from sklearn.utils import resample\n",
        "\n",
        "from tqdm import tqdm  # for progress bar"
      ]
    },
    {
      "cell_type": "code",
      "source": [
        "# load the dataset\n",
        "df = pd.read_csv('Dataset-Mental-Disorders.csv')"
      ],
      "metadata": {
        "id": "IBre2U9WF4tB"
      },
      "execution_count": 125,
      "outputs": []
    },
    {
      "cell_type": "code",
      "source": [
        "# show the dataset\n",
        "df.head(5)"
      ],
      "metadata": {
        "colab": {
          "base_uri": "https://localhost:8080/",
          "height": 365
        },
        "id": "gNrt17jPGXLT",
        "outputId": "7f4cf4b0-32d6-4fef-e107-fb4c9bf450f4"
      },
      "execution_count": 126,
      "outputs": [
        {
          "output_type": "execute_result",
          "data": {
            "text/plain": [
              "  Patient Number    Sadness    Euphoric  Exhausted Sleep dissorder Mood Swing  \\\n",
              "0     Patiant-01    Usually      Seldom  Sometimes       Sometimes        YES   \n",
              "1     Patiant-02    Usually      Seldom    Usually       Sometimes         NO   \n",
              "2     Patiant-03  Sometimes  Most-Often  Sometimes       Sometimes        YES   \n",
              "3     Patiant-04    Usually      Seldom    Usually      Most-Often        YES   \n",
              "4     Patiant-05    Usually     Usually  Sometimes       Sometimes         NO   \n",
              "\n",
              "  Suicidal thoughts Anorxia Authority Respect Try-Explanation  \\\n",
              "0              YES       NO                NO             YES   \n",
              "1               YES      NO                NO              NO   \n",
              "2                NO      NO                NO             YES   \n",
              "3               YES     YES                NO             YES   \n",
              "4                NO      NO                NO              NO   \n",
              "\n",
              "  Aggressive Response Ignore & Move-On Nervous Break-down Admit Mistakes  \\\n",
              "0                  NO               NO                YES            YES   \n",
              "1                  NO               NO                 NO             NO   \n",
              "2                 YES               NO                YES            YES   \n",
              "3                  NO               NO                 NO             NO   \n",
              "4                  NO               NO                YES            YES   \n",
              "\n",
              "  Overthinking Sexual Activity Concentration  Optimisim Expert Diagnose  \n",
              "0          YES       3 From 10     3 From 10  4 From 10  Bipolar Type-2  \n",
              "1           NO       4 From 10     2 From 10  5 From 10      Depression  \n",
              "2           NO       6 From 10     5 From 10  7 From 10  Bipolar Type-1  \n",
              "3           NO       3 From 10     2 From 10  2 From 10  Bipolar Type-2  \n",
              "4          YES       5 From 10     5 From 10  6 From 10          Normal  "
            ],
            "text/html": [
              "\n",
              "  <div id=\"df-6dc1cce2-fec6-4246-9fa9-53ae4f7efd59\" class=\"colab-df-container\">\n",
              "    <div>\n",
              "<style scoped>\n",
              "    .dataframe tbody tr th:only-of-type {\n",
              "        vertical-align: middle;\n",
              "    }\n",
              "\n",
              "    .dataframe tbody tr th {\n",
              "        vertical-align: top;\n",
              "    }\n",
              "\n",
              "    .dataframe thead th {\n",
              "        text-align: right;\n",
              "    }\n",
              "</style>\n",
              "<table border=\"1\" class=\"dataframe\">\n",
              "  <thead>\n",
              "    <tr style=\"text-align: right;\">\n",
              "      <th></th>\n",
              "      <th>Patient Number</th>\n",
              "      <th>Sadness</th>\n",
              "      <th>Euphoric</th>\n",
              "      <th>Exhausted</th>\n",
              "      <th>Sleep dissorder</th>\n",
              "      <th>Mood Swing</th>\n",
              "      <th>Suicidal thoughts</th>\n",
              "      <th>Anorxia</th>\n",
              "      <th>Authority Respect</th>\n",
              "      <th>Try-Explanation</th>\n",
              "      <th>Aggressive Response</th>\n",
              "      <th>Ignore &amp; Move-On</th>\n",
              "      <th>Nervous Break-down</th>\n",
              "      <th>Admit Mistakes</th>\n",
              "      <th>Overthinking</th>\n",
              "      <th>Sexual Activity</th>\n",
              "      <th>Concentration</th>\n",
              "      <th>Optimisim</th>\n",
              "      <th>Expert Diagnose</th>\n",
              "    </tr>\n",
              "  </thead>\n",
              "  <tbody>\n",
              "    <tr>\n",
              "      <th>0</th>\n",
              "      <td>Patiant-01</td>\n",
              "      <td>Usually</td>\n",
              "      <td>Seldom</td>\n",
              "      <td>Sometimes</td>\n",
              "      <td>Sometimes</td>\n",
              "      <td>YES</td>\n",
              "      <td>YES</td>\n",
              "      <td>NO</td>\n",
              "      <td>NO</td>\n",
              "      <td>YES</td>\n",
              "      <td>NO</td>\n",
              "      <td>NO</td>\n",
              "      <td>YES</td>\n",
              "      <td>YES</td>\n",
              "      <td>YES</td>\n",
              "      <td>3 From 10</td>\n",
              "      <td>3 From 10</td>\n",
              "      <td>4 From 10</td>\n",
              "      <td>Bipolar Type-2</td>\n",
              "    </tr>\n",
              "    <tr>\n",
              "      <th>1</th>\n",
              "      <td>Patiant-02</td>\n",
              "      <td>Usually</td>\n",
              "      <td>Seldom</td>\n",
              "      <td>Usually</td>\n",
              "      <td>Sometimes</td>\n",
              "      <td>NO</td>\n",
              "      <td>YES</td>\n",
              "      <td>NO</td>\n",
              "      <td>NO</td>\n",
              "      <td>NO</td>\n",
              "      <td>NO</td>\n",
              "      <td>NO</td>\n",
              "      <td>NO</td>\n",
              "      <td>NO</td>\n",
              "      <td>NO</td>\n",
              "      <td>4 From 10</td>\n",
              "      <td>2 From 10</td>\n",
              "      <td>5 From 10</td>\n",
              "      <td>Depression</td>\n",
              "    </tr>\n",
              "    <tr>\n",
              "      <th>2</th>\n",
              "      <td>Patiant-03</td>\n",
              "      <td>Sometimes</td>\n",
              "      <td>Most-Often</td>\n",
              "      <td>Sometimes</td>\n",
              "      <td>Sometimes</td>\n",
              "      <td>YES</td>\n",
              "      <td>NO</td>\n",
              "      <td>NO</td>\n",
              "      <td>NO</td>\n",
              "      <td>YES</td>\n",
              "      <td>YES</td>\n",
              "      <td>NO</td>\n",
              "      <td>YES</td>\n",
              "      <td>YES</td>\n",
              "      <td>NO</td>\n",
              "      <td>6 From 10</td>\n",
              "      <td>5 From 10</td>\n",
              "      <td>7 From 10</td>\n",
              "      <td>Bipolar Type-1</td>\n",
              "    </tr>\n",
              "    <tr>\n",
              "      <th>3</th>\n",
              "      <td>Patiant-04</td>\n",
              "      <td>Usually</td>\n",
              "      <td>Seldom</td>\n",
              "      <td>Usually</td>\n",
              "      <td>Most-Often</td>\n",
              "      <td>YES</td>\n",
              "      <td>YES</td>\n",
              "      <td>YES</td>\n",
              "      <td>NO</td>\n",
              "      <td>YES</td>\n",
              "      <td>NO</td>\n",
              "      <td>NO</td>\n",
              "      <td>NO</td>\n",
              "      <td>NO</td>\n",
              "      <td>NO</td>\n",
              "      <td>3 From 10</td>\n",
              "      <td>2 From 10</td>\n",
              "      <td>2 From 10</td>\n",
              "      <td>Bipolar Type-2</td>\n",
              "    </tr>\n",
              "    <tr>\n",
              "      <th>4</th>\n",
              "      <td>Patiant-05</td>\n",
              "      <td>Usually</td>\n",
              "      <td>Usually</td>\n",
              "      <td>Sometimes</td>\n",
              "      <td>Sometimes</td>\n",
              "      <td>NO</td>\n",
              "      <td>NO</td>\n",
              "      <td>NO</td>\n",
              "      <td>NO</td>\n",
              "      <td>NO</td>\n",
              "      <td>NO</td>\n",
              "      <td>NO</td>\n",
              "      <td>YES</td>\n",
              "      <td>YES</td>\n",
              "      <td>YES</td>\n",
              "      <td>5 From 10</td>\n",
              "      <td>5 From 10</td>\n",
              "      <td>6 From 10</td>\n",
              "      <td>Normal</td>\n",
              "    </tr>\n",
              "  </tbody>\n",
              "</table>\n",
              "</div>\n",
              "    <div class=\"colab-df-buttons\">\n",
              "\n",
              "  <div class=\"colab-df-container\">\n",
              "    <button class=\"colab-df-convert\" onclick=\"convertToInteractive('df-6dc1cce2-fec6-4246-9fa9-53ae4f7efd59')\"\n",
              "            title=\"Convert this dataframe to an interactive table.\"\n",
              "            style=\"display:none;\">\n",
              "\n",
              "  <svg xmlns=\"http://www.w3.org/2000/svg\" height=\"24px\" viewBox=\"0 -960 960 960\">\n",
              "    <path d=\"M120-120v-720h720v720H120Zm60-500h600v-160H180v160Zm220 220h160v-160H400v160Zm0 220h160v-160H400v160ZM180-400h160v-160H180v160Zm440 0h160v-160H620v160ZM180-180h160v-160H180v160Zm440 0h160v-160H620v160Z\"/>\n",
              "  </svg>\n",
              "    </button>\n",
              "\n",
              "  <style>\n",
              "    .colab-df-container {\n",
              "      display:flex;\n",
              "      gap: 12px;\n",
              "    }\n",
              "\n",
              "    .colab-df-convert {\n",
              "      background-color: #E8F0FE;\n",
              "      border: none;\n",
              "      border-radius: 50%;\n",
              "      cursor: pointer;\n",
              "      display: none;\n",
              "      fill: #1967D2;\n",
              "      height: 32px;\n",
              "      padding: 0 0 0 0;\n",
              "      width: 32px;\n",
              "    }\n",
              "\n",
              "    .colab-df-convert:hover {\n",
              "      background-color: #E2EBFA;\n",
              "      box-shadow: 0px 1px 2px rgba(60, 64, 67, 0.3), 0px 1px 3px 1px rgba(60, 64, 67, 0.15);\n",
              "      fill: #174EA6;\n",
              "    }\n",
              "\n",
              "    .colab-df-buttons div {\n",
              "      margin-bottom: 4px;\n",
              "    }\n",
              "\n",
              "    [theme=dark] .colab-df-convert {\n",
              "      background-color: #3B4455;\n",
              "      fill: #D2E3FC;\n",
              "    }\n",
              "\n",
              "    [theme=dark] .colab-df-convert:hover {\n",
              "      background-color: #434B5C;\n",
              "      box-shadow: 0px 1px 3px 1px rgba(0, 0, 0, 0.15);\n",
              "      filter: drop-shadow(0px 1px 2px rgba(0, 0, 0, 0.3));\n",
              "      fill: #FFFFFF;\n",
              "    }\n",
              "  </style>\n",
              "\n",
              "    <script>\n",
              "      const buttonEl =\n",
              "        document.querySelector('#df-6dc1cce2-fec6-4246-9fa9-53ae4f7efd59 button.colab-df-convert');\n",
              "      buttonEl.style.display =\n",
              "        google.colab.kernel.accessAllowed ? 'block' : 'none';\n",
              "\n",
              "      async function convertToInteractive(key) {\n",
              "        const element = document.querySelector('#df-6dc1cce2-fec6-4246-9fa9-53ae4f7efd59');\n",
              "        const dataTable =\n",
              "          await google.colab.kernel.invokeFunction('convertToInteractive',\n",
              "                                                    [key], {});\n",
              "        if (!dataTable) return;\n",
              "\n",
              "        const docLinkHtml = 'Like what you see? Visit the ' +\n",
              "          '<a target=\"_blank\" href=https://colab.research.google.com/notebooks/data_table.ipynb>data table notebook</a>'\n",
              "          + ' to learn more about interactive tables.';\n",
              "        element.innerHTML = '';\n",
              "        dataTable['output_type'] = 'display_data';\n",
              "        await google.colab.output.renderOutput(dataTable, element);\n",
              "        const docLink = document.createElement('div');\n",
              "        docLink.innerHTML = docLinkHtml;\n",
              "        element.appendChild(docLink);\n",
              "      }\n",
              "    </script>\n",
              "  </div>\n",
              "\n",
              "\n",
              "    <div id=\"df-704bb378-868a-4b02-a696-67f57eba3bcf\">\n",
              "      <button class=\"colab-df-quickchart\" onclick=\"quickchart('df-704bb378-868a-4b02-a696-67f57eba3bcf')\"\n",
              "                title=\"Suggest charts\"\n",
              "                style=\"display:none;\">\n",
              "\n",
              "<svg xmlns=\"http://www.w3.org/2000/svg\" height=\"24px\"viewBox=\"0 0 24 24\"\n",
              "     width=\"24px\">\n",
              "    <g>\n",
              "        <path d=\"M19 3H5c-1.1 0-2 .9-2 2v14c0 1.1.9 2 2 2h14c1.1 0 2-.9 2-2V5c0-1.1-.9-2-2-2zM9 17H7v-7h2v7zm4 0h-2V7h2v10zm4 0h-2v-4h2v4z\"/>\n",
              "    </g>\n",
              "</svg>\n",
              "      </button>\n",
              "\n",
              "<style>\n",
              "  .colab-df-quickchart {\n",
              "      --bg-color: #E8F0FE;\n",
              "      --fill-color: #1967D2;\n",
              "      --hover-bg-color: #E2EBFA;\n",
              "      --hover-fill-color: #174EA6;\n",
              "      --disabled-fill-color: #AAA;\n",
              "      --disabled-bg-color: #DDD;\n",
              "  }\n",
              "\n",
              "  [theme=dark] .colab-df-quickchart {\n",
              "      --bg-color: #3B4455;\n",
              "      --fill-color: #D2E3FC;\n",
              "      --hover-bg-color: #434B5C;\n",
              "      --hover-fill-color: #FFFFFF;\n",
              "      --disabled-bg-color: #3B4455;\n",
              "      --disabled-fill-color: #666;\n",
              "  }\n",
              "\n",
              "  .colab-df-quickchart {\n",
              "    background-color: var(--bg-color);\n",
              "    border: none;\n",
              "    border-radius: 50%;\n",
              "    cursor: pointer;\n",
              "    display: none;\n",
              "    fill: var(--fill-color);\n",
              "    height: 32px;\n",
              "    padding: 0;\n",
              "    width: 32px;\n",
              "  }\n",
              "\n",
              "  .colab-df-quickchart:hover {\n",
              "    background-color: var(--hover-bg-color);\n",
              "    box-shadow: 0 1px 2px rgba(60, 64, 67, 0.3), 0 1px 3px 1px rgba(60, 64, 67, 0.15);\n",
              "    fill: var(--button-hover-fill-color);\n",
              "  }\n",
              "\n",
              "  .colab-df-quickchart-complete:disabled,\n",
              "  .colab-df-quickchart-complete:disabled:hover {\n",
              "    background-color: var(--disabled-bg-color);\n",
              "    fill: var(--disabled-fill-color);\n",
              "    box-shadow: none;\n",
              "  }\n",
              "\n",
              "  .colab-df-spinner {\n",
              "    border: 2px solid var(--fill-color);\n",
              "    border-color: transparent;\n",
              "    border-bottom-color: var(--fill-color);\n",
              "    animation:\n",
              "      spin 1s steps(1) infinite;\n",
              "  }\n",
              "\n",
              "  @keyframes spin {\n",
              "    0% {\n",
              "      border-color: transparent;\n",
              "      border-bottom-color: var(--fill-color);\n",
              "      border-left-color: var(--fill-color);\n",
              "    }\n",
              "    20% {\n",
              "      border-color: transparent;\n",
              "      border-left-color: var(--fill-color);\n",
              "      border-top-color: var(--fill-color);\n",
              "    }\n",
              "    30% {\n",
              "      border-color: transparent;\n",
              "      border-left-color: var(--fill-color);\n",
              "      border-top-color: var(--fill-color);\n",
              "      border-right-color: var(--fill-color);\n",
              "    }\n",
              "    40% {\n",
              "      border-color: transparent;\n",
              "      border-right-color: var(--fill-color);\n",
              "      border-top-color: var(--fill-color);\n",
              "    }\n",
              "    60% {\n",
              "      border-color: transparent;\n",
              "      border-right-color: var(--fill-color);\n",
              "    }\n",
              "    80% {\n",
              "      border-color: transparent;\n",
              "      border-right-color: var(--fill-color);\n",
              "      border-bottom-color: var(--fill-color);\n",
              "    }\n",
              "    90% {\n",
              "      border-color: transparent;\n",
              "      border-bottom-color: var(--fill-color);\n",
              "    }\n",
              "  }\n",
              "</style>\n",
              "\n",
              "      <script>\n",
              "        async function quickchart(key) {\n",
              "          const quickchartButtonEl =\n",
              "            document.querySelector('#' + key + ' button');\n",
              "          quickchartButtonEl.disabled = true;  // To prevent multiple clicks.\n",
              "          quickchartButtonEl.classList.add('colab-df-spinner');\n",
              "          try {\n",
              "            const charts = await google.colab.kernel.invokeFunction(\n",
              "                'suggestCharts', [key], {});\n",
              "          } catch (error) {\n",
              "            console.error('Error during call to suggestCharts:', error);\n",
              "          }\n",
              "          quickchartButtonEl.classList.remove('colab-df-spinner');\n",
              "          quickchartButtonEl.classList.add('colab-df-quickchart-complete');\n",
              "        }\n",
              "        (() => {\n",
              "          let quickchartButtonEl =\n",
              "            document.querySelector('#df-704bb378-868a-4b02-a696-67f57eba3bcf button');\n",
              "          quickchartButtonEl.style.display =\n",
              "            google.colab.kernel.accessAllowed ? 'block' : 'none';\n",
              "        })();\n",
              "      </script>\n",
              "    </div>\n",
              "\n",
              "    </div>\n",
              "  </div>\n"
            ],
            "application/vnd.google.colaboratory.intrinsic+json": {
              "type": "dataframe",
              "variable_name": "df",
              "summary": "{\n  \"name\": \"df\",\n  \"rows\": 120,\n  \"fields\": [\n    {\n      \"column\": \"Patient Number\",\n      \"properties\": {\n        \"dtype\": \"string\",\n        \"num_unique_values\": 120,\n        \"samples\": [\n          \"Patiant-45\",\n          \"Patiant-48\",\n          \"Patiant-05\"\n        ],\n        \"semantic_type\": \"\",\n        \"description\": \"\"\n      }\n    },\n    {\n      \"column\": \"Sadness\",\n      \"properties\": {\n        \"dtype\": \"category\",\n        \"num_unique_values\": 4,\n        \"samples\": [\n          \"Sometimes\",\n          \"Most-Often\",\n          \"Usually\"\n        ],\n        \"semantic_type\": \"\",\n        \"description\": \"\"\n      }\n    },\n    {\n      \"column\": \"Euphoric\",\n      \"properties\": {\n        \"dtype\": \"category\",\n        \"num_unique_values\": 4,\n        \"samples\": [\n          \"Most-Often\",\n          \"Sometimes\",\n          \"Seldom\"\n        ],\n        \"semantic_type\": \"\",\n        \"description\": \"\"\n      }\n    },\n    {\n      \"column\": \"Exhausted\",\n      \"properties\": {\n        \"dtype\": \"category\",\n        \"num_unique_values\": 4,\n        \"samples\": [\n          \"Usually\",\n          \"Most-Often\",\n          \"Sometimes\"\n        ],\n        \"semantic_type\": \"\",\n        \"description\": \"\"\n      }\n    },\n    {\n      \"column\": \"Sleep dissorder\",\n      \"properties\": {\n        \"dtype\": \"category\",\n        \"num_unique_values\": 4,\n        \"samples\": [\n          \"Most-Often\",\n          \"Seldom\",\n          \"Sometimes\"\n        ],\n        \"semantic_type\": \"\",\n        \"description\": \"\"\n      }\n    },\n    {\n      \"column\": \"Mood Swing\",\n      \"properties\": {\n        \"dtype\": \"category\",\n        \"num_unique_values\": 2,\n        \"samples\": [\n          \"NO\",\n          \"YES\"\n        ],\n        \"semantic_type\": \"\",\n        \"description\": \"\"\n      }\n    },\n    {\n      \"column\": \"Suicidal thoughts\",\n      \"properties\": {\n        \"dtype\": \"category\",\n        \"num_unique_values\": 3,\n        \"samples\": [\n          \"YES \",\n          \"YES\"\n        ],\n        \"semantic_type\": \"\",\n        \"description\": \"\"\n      }\n    },\n    {\n      \"column\": \"Anorxia\",\n      \"properties\": {\n        \"dtype\": \"category\",\n        \"num_unique_values\": 2,\n        \"samples\": [\n          \"YES\",\n          \"NO\"\n        ],\n        \"semantic_type\": \"\",\n        \"description\": \"\"\n      }\n    },\n    {\n      \"column\": \"Authority Respect\",\n      \"properties\": {\n        \"dtype\": \"category\",\n        \"num_unique_values\": 2,\n        \"samples\": [\n          \"YES\",\n          \"NO\"\n        ],\n        \"semantic_type\": \"\",\n        \"description\": \"\"\n      }\n    },\n    {\n      \"column\": \"Try-Explanation\",\n      \"properties\": {\n        \"dtype\": \"category\",\n        \"num_unique_values\": 2,\n        \"samples\": [\n          \"NO\",\n          \"YES\"\n        ],\n        \"semantic_type\": \"\",\n        \"description\": \"\"\n      }\n    },\n    {\n      \"column\": \"Aggressive Response\",\n      \"properties\": {\n        \"dtype\": \"category\",\n        \"num_unique_values\": 2,\n        \"samples\": [\n          \"YES\",\n          \"NO\"\n        ],\n        \"semantic_type\": \"\",\n        \"description\": \"\"\n      }\n    },\n    {\n      \"column\": \"Ignore & Move-On\",\n      \"properties\": {\n        \"dtype\": \"category\",\n        \"num_unique_values\": 2,\n        \"samples\": [\n          \"YES\",\n          \"NO\"\n        ],\n        \"semantic_type\": \"\",\n        \"description\": \"\"\n      }\n    },\n    {\n      \"column\": \"Nervous Break-down\",\n      \"properties\": {\n        \"dtype\": \"category\",\n        \"num_unique_values\": 2,\n        \"samples\": [\n          \"NO\",\n          \"YES\"\n        ],\n        \"semantic_type\": \"\",\n        \"description\": \"\"\n      }\n    },\n    {\n      \"column\": \"Admit Mistakes\",\n      \"properties\": {\n        \"dtype\": \"category\",\n        \"num_unique_values\": 2,\n        \"samples\": [\n          \"NO\",\n          \"YES\"\n        ],\n        \"semantic_type\": \"\",\n        \"description\": \"\"\n      }\n    },\n    {\n      \"column\": \"Overthinking\",\n      \"properties\": {\n        \"dtype\": \"category\",\n        \"num_unique_values\": 2,\n        \"samples\": [\n          \"NO\",\n          \"YES\"\n        ],\n        \"semantic_type\": \"\",\n        \"description\": \"\"\n      }\n    },\n    {\n      \"column\": \"Sexual Activity\",\n      \"properties\": {\n        \"dtype\": \"category\",\n        \"num_unique_values\": 9,\n        \"samples\": [\n          \"2 From 10\",\n          \"4 From 10\"\n        ],\n        \"semantic_type\": \"\",\n        \"description\": \"\"\n      }\n    },\n    {\n      \"column\": \"Concentration\",\n      \"properties\": {\n        \"dtype\": \"category\",\n        \"num_unique_values\": 8,\n        \"samples\": [\n          \"2 From 10\",\n          \"6 From 10\"\n        ],\n        \"semantic_type\": \"\",\n        \"description\": \"\"\n      }\n    },\n    {\n      \"column\": \"Optimisim\",\n      \"properties\": {\n        \"dtype\": \"category\",\n        \"num_unique_values\": 9,\n        \"samples\": [\n          \"8 From 10\",\n          \"5 From 10\"\n        ],\n        \"semantic_type\": \"\",\n        \"description\": \"\"\n      }\n    },\n    {\n      \"column\": \"Expert Diagnose\",\n      \"properties\": {\n        \"dtype\": \"category\",\n        \"num_unique_values\": 4,\n        \"samples\": [\n          \"Depression\",\n          \"Normal\"\n        ],\n        \"semantic_type\": \"\",\n        \"description\": \"\"\n      }\n    }\n  ]\n}"
            }
          },
          "metadata": {},
          "execution_count": 126
        }
      ]
    },
    {
      "cell_type": "code",
      "source": [
        "# shape of the data\n",
        "df.shape"
      ],
      "metadata": {
        "colab": {
          "base_uri": "https://localhost:8080/"
        },
        "id": "Q09GgYYdHm6c",
        "outputId": "e2bd6c73-c336-4ea5-a17f-1d7c76c067f5"
      },
      "execution_count": 127,
      "outputs": [
        {
          "output_type": "execute_result",
          "data": {
            "text/plain": [
              "(120, 19)"
            ]
          },
          "metadata": {},
          "execution_count": 127
        }
      ]
    },
    {
      "cell_type": "code",
      "source": [
        "# check the duplicated\n",
        "df.duplicated().sum()"
      ],
      "metadata": {
        "colab": {
          "base_uri": "https://localhost:8080/"
        },
        "id": "noLHrwkLG-eT",
        "outputId": "aa0218be-3132-4385-e169-aab1962aa8e4"
      },
      "execution_count": 128,
      "outputs": [
        {
          "output_type": "execute_result",
          "data": {
            "text/plain": [
              "np.int64(0)"
            ]
          },
          "metadata": {},
          "execution_count": 128
        }
      ]
    },
    {
      "cell_type": "code",
      "source": [
        "# check the missing values\n",
        "df.isnull().sum()"
      ],
      "metadata": {
        "colab": {
          "base_uri": "https://localhost:8080/",
          "height": 680
        },
        "id": "w9SO52-zHbRL",
        "outputId": "e0355487-70f5-4de2-fc0c-8c555e97f03b"
      },
      "execution_count": 129,
      "outputs": [
        {
          "output_type": "execute_result",
          "data": {
            "text/plain": [
              "Patient Number         0\n",
              "Sadness                0\n",
              "Euphoric               0\n",
              "Exhausted              0\n",
              "Sleep dissorder        0\n",
              "Mood Swing             0\n",
              "Suicidal thoughts      0\n",
              "Anorxia                0\n",
              "Authority Respect      0\n",
              "Try-Explanation        0\n",
              "Aggressive Response    0\n",
              "Ignore & Move-On       0\n",
              "Nervous Break-down     0\n",
              "Admit Mistakes         0\n",
              "Overthinking           0\n",
              "Sexual Activity        0\n",
              "Concentration          0\n",
              "Optimisim              0\n",
              "Expert Diagnose        0\n",
              "dtype: int64"
            ],
            "text/html": [
              "<div>\n",
              "<style scoped>\n",
              "    .dataframe tbody tr th:only-of-type {\n",
              "        vertical-align: middle;\n",
              "    }\n",
              "\n",
              "    .dataframe tbody tr th {\n",
              "        vertical-align: top;\n",
              "    }\n",
              "\n",
              "    .dataframe thead th {\n",
              "        text-align: right;\n",
              "    }\n",
              "</style>\n",
              "<table border=\"1\" class=\"dataframe\">\n",
              "  <thead>\n",
              "    <tr style=\"text-align: right;\">\n",
              "      <th></th>\n",
              "      <th>0</th>\n",
              "    </tr>\n",
              "  </thead>\n",
              "  <tbody>\n",
              "    <tr>\n",
              "      <th>Patient Number</th>\n",
              "      <td>0</td>\n",
              "    </tr>\n",
              "    <tr>\n",
              "      <th>Sadness</th>\n",
              "      <td>0</td>\n",
              "    </tr>\n",
              "    <tr>\n",
              "      <th>Euphoric</th>\n",
              "      <td>0</td>\n",
              "    </tr>\n",
              "    <tr>\n",
              "      <th>Exhausted</th>\n",
              "      <td>0</td>\n",
              "    </tr>\n",
              "    <tr>\n",
              "      <th>Sleep dissorder</th>\n",
              "      <td>0</td>\n",
              "    </tr>\n",
              "    <tr>\n",
              "      <th>Mood Swing</th>\n",
              "      <td>0</td>\n",
              "    </tr>\n",
              "    <tr>\n",
              "      <th>Suicidal thoughts</th>\n",
              "      <td>0</td>\n",
              "    </tr>\n",
              "    <tr>\n",
              "      <th>Anorxia</th>\n",
              "      <td>0</td>\n",
              "    </tr>\n",
              "    <tr>\n",
              "      <th>Authority Respect</th>\n",
              "      <td>0</td>\n",
              "    </tr>\n",
              "    <tr>\n",
              "      <th>Try-Explanation</th>\n",
              "      <td>0</td>\n",
              "    </tr>\n",
              "    <tr>\n",
              "      <th>Aggressive Response</th>\n",
              "      <td>0</td>\n",
              "    </tr>\n",
              "    <tr>\n",
              "      <th>Ignore &amp; Move-On</th>\n",
              "      <td>0</td>\n",
              "    </tr>\n",
              "    <tr>\n",
              "      <th>Nervous Break-down</th>\n",
              "      <td>0</td>\n",
              "    </tr>\n",
              "    <tr>\n",
              "      <th>Admit Mistakes</th>\n",
              "      <td>0</td>\n",
              "    </tr>\n",
              "    <tr>\n",
              "      <th>Overthinking</th>\n",
              "      <td>0</td>\n",
              "    </tr>\n",
              "    <tr>\n",
              "      <th>Sexual Activity</th>\n",
              "      <td>0</td>\n",
              "    </tr>\n",
              "    <tr>\n",
              "      <th>Concentration</th>\n",
              "      <td>0</td>\n",
              "    </tr>\n",
              "    <tr>\n",
              "      <th>Optimisim</th>\n",
              "      <td>0</td>\n",
              "    </tr>\n",
              "    <tr>\n",
              "      <th>Expert Diagnose</th>\n",
              "      <td>0</td>\n",
              "    </tr>\n",
              "  </tbody>\n",
              "</table>\n",
              "</div><br><label><b>dtype:</b> int64</label>"
            ]
          },
          "metadata": {},
          "execution_count": 129
        }
      ]
    },
    {
      "cell_type": "code",
      "source": [
        "# data information\n",
        "df.info()"
      ],
      "metadata": {
        "colab": {
          "base_uri": "https://localhost:8080/"
        },
        "id": "DPXTGnT1HvCy",
        "outputId": "557c05ee-cd94-4e0b-819b-5d2591cefc44"
      },
      "execution_count": 130,
      "outputs": [
        {
          "output_type": "stream",
          "name": "stdout",
          "text": [
            "<class 'pandas.core.frame.DataFrame'>\n",
            "RangeIndex: 120 entries, 0 to 119\n",
            "Data columns (total 19 columns):\n",
            " #   Column               Non-Null Count  Dtype \n",
            "---  ------               --------------  ----- \n",
            " 0   Patient Number       120 non-null    object\n",
            " 1   Sadness              120 non-null    object\n",
            " 2   Euphoric             120 non-null    object\n",
            " 3   Exhausted            120 non-null    object\n",
            " 4   Sleep dissorder      120 non-null    object\n",
            " 5   Mood Swing           120 non-null    object\n",
            " 6   Suicidal thoughts    120 non-null    object\n",
            " 7   Anorxia              120 non-null    object\n",
            " 8   Authority Respect    120 non-null    object\n",
            " 9   Try-Explanation      120 non-null    object\n",
            " 10  Aggressive Response  120 non-null    object\n",
            " 11  Ignore & Move-On     120 non-null    object\n",
            " 12  Nervous Break-down   120 non-null    object\n",
            " 13  Admit Mistakes       120 non-null    object\n",
            " 14  Overthinking         120 non-null    object\n",
            " 15  Sexual Activity      120 non-null    object\n",
            " 16  Concentration        120 non-null    object\n",
            " 17  Optimisim            120 non-null    object\n",
            " 18  Expert Diagnose      120 non-null    object\n",
            "dtypes: object(19)\n",
            "memory usage: 17.9+ KB\n"
          ]
        }
      ]
    },
    {
      "cell_type": "code",
      "source": [
        "# remove the patient number\n",
        "df.drop('Patient Number',axis=1,inplace=True)"
      ],
      "metadata": {
        "id": "8MycWEvHGrrS"
      },
      "execution_count": 131,
      "outputs": []
    },
    {
      "cell_type": "code",
      "source": [
        "df.shape"
      ],
      "metadata": {
        "colab": {
          "base_uri": "https://localhost:8080/"
        },
        "id": "NdAItus4ICTt",
        "outputId": "df49490d-aa2e-4a35-c975-4adb4b6b9216"
      },
      "execution_count": 132,
      "outputs": [
        {
          "output_type": "execute_result",
          "data": {
            "text/plain": [
              "(120, 18)"
            ]
          },
          "metadata": {},
          "execution_count": 132
        }
      ]
    },
    {
      "cell_type": "code",
      "source": [
        "# levels in each category\n",
        "categorical_colmns = df.select_dtypes(include='object').columns\n",
        "categorical_colmns"
      ],
      "metadata": {
        "colab": {
          "base_uri": "https://localhost:8080/"
        },
        "id": "bCwgR5hGLSzF",
        "outputId": "9db41a35-c97e-4be5-9742-e82e26cd4ef5"
      },
      "execution_count": 133,
      "outputs": [
        {
          "output_type": "execute_result",
          "data": {
            "text/plain": [
              "Index(['Sadness', 'Euphoric', 'Exhausted', 'Sleep dissorder', 'Mood Swing',\n",
              "       'Suicidal thoughts', 'Anorxia', 'Authority Respect', 'Try-Explanation',\n",
              "       'Aggressive Response', 'Ignore & Move-On', 'Nervous Break-down',\n",
              "       'Admit Mistakes', 'Overthinking', 'Sexual Activity', 'Concentration',\n",
              "       'Optimisim', 'Expert Diagnose'],\n",
              "      dtype='object')"
            ]
          },
          "metadata": {},
          "execution_count": 133
        }
      ]
    },
    {
      "cell_type": "code",
      "source": [
        "for i in categorical_colmns:\n",
        "    print(df[i].value_counts())"
      ],
      "metadata": {
        "colab": {
          "base_uri": "https://localhost:8080/"
        },
        "id": "giCLnzSqM1pT",
        "outputId": "63c7cd9d-05ae-4190-b8ce-6651a0ed0134"
      },
      "execution_count": 134,
      "outputs": [
        {
          "output_type": "stream",
          "name": "stdout",
          "text": [
            "Sadness\n",
            "Usually       42\n",
            "Sometimes     42\n",
            "Most-Often    20\n",
            "Seldom        16\n",
            "Name: count, dtype: int64\n",
            "Euphoric\n",
            "Seldom        46\n",
            "Sometimes     45\n",
            "Usually       20\n",
            "Most-Often     9\n",
            "Name: count, dtype: int64\n",
            "Exhausted\n",
            "Sometimes     38\n",
            "Usually       34\n",
            "Most-Often    30\n",
            "Seldom        18\n",
            "Name: count, dtype: int64\n",
            "Sleep dissorder\n",
            "Sometimes     44\n",
            "Usually       34\n",
            "Most-Often    21\n",
            "Seldom        21\n",
            "Name: count, dtype: int64\n",
            "Mood Swing\n",
            "NO     63\n",
            "YES    57\n",
            "Name: count, dtype: int64\n",
            "Suicidal thoughts\n",
            "NO      63\n",
            "YES     56\n",
            "YES      1\n",
            "Name: count, dtype: int64\n",
            "Anorxia\n",
            "NO     74\n",
            "YES    46\n",
            "Name: count, dtype: int64\n",
            "Authority Respect\n",
            "NO     73\n",
            "YES    47\n",
            "Name: count, dtype: int64\n",
            "Try-Explanation\n",
            "NO     63\n",
            "YES    57\n",
            "Name: count, dtype: int64\n",
            "Aggressive Response\n",
            "NO     62\n",
            "YES    58\n",
            "Name: count, dtype: int64\n",
            "Ignore & Move-On\n",
            "NO     70\n",
            "YES    50\n",
            "Name: count, dtype: int64\n",
            "Nervous Break-down\n",
            "YES    62\n",
            "NO     58\n",
            "Name: count, dtype: int64\n",
            "Admit Mistakes\n",
            "NO     61\n",
            "YES    59\n",
            "Name: count, dtype: int64\n",
            "Overthinking\n",
            "YES    65\n",
            "NO     55\n",
            "Name: count, dtype: int64\n",
            "Sexual Activity\n",
            "5 From 10    22\n",
            "4 From 10    20\n",
            "3 From 10    17\n",
            "6 From 10    15\n",
            "2 From 10    15\n",
            "7 From 10    14\n",
            "8 From 10    11\n",
            "1 From 10     4\n",
            "9 From 10     2\n",
            "Name: count, dtype: int64\n",
            "Concentration\n",
            "4 From 10    33\n",
            "2 From 10    21\n",
            "5 From 10    21\n",
            "7 From 10    14\n",
            "3 From 10    12\n",
            "6 From 10    10\n",
            "1 From 10     5\n",
            "8 From 10     4\n",
            "Name: count, dtype: int64\n",
            "Optimisim\n",
            "6 From 10    21\n",
            "5 From 10    20\n",
            "4 From 10    19\n",
            "2 From 10    18\n",
            "3 From 10    18\n",
            "7 From 10     8\n",
            "8 From 10     8\n",
            "1 From 10     6\n",
            "9 From 10     2\n",
            "Name: count, dtype: int64\n",
            "Expert Diagnose\n",
            "Bipolar Type-2    31\n",
            "Depression        31\n",
            "Normal            30\n",
            "Bipolar Type-1    28\n",
            "Name: count, dtype: int64\n"
          ]
        }
      ]
    },
    {
      "cell_type": "code",
      "source": [
        "# Suicidal thoughts has 3 levels \"NO' \"YES\" and \"Yes \"\n",
        "df[\"Suicidal thoughts\"] = df[\"Suicidal thoughts\"].str.strip().str.upper()"
      ],
      "metadata": {
        "id": "ryDFN3W0NLRy"
      },
      "execution_count": 135,
      "outputs": []
    },
    {
      "cell_type": "code",
      "source": [
        "#yes_responses = df[df['Suicidal thoughts']==\"YES\"]\n",
        "#len(yes_responses)\n",
        "df[\"Suicidal thoughts\"].value_counts()"
      ],
      "metadata": {
        "colab": {
          "base_uri": "https://localhost:8080/",
          "height": 178
        },
        "id": "tSe6eeNAO9C6",
        "outputId": "7267aad7-23bf-42c1-cfdb-25e334199f9d"
      },
      "execution_count": 136,
      "outputs": [
        {
          "output_type": "execute_result",
          "data": {
            "text/plain": [
              "Suicidal thoughts\n",
              "NO     63\n",
              "YES    57\n",
              "Name: count, dtype: int64"
            ],
            "text/html": [
              "<div>\n",
              "<style scoped>\n",
              "    .dataframe tbody tr th:only-of-type {\n",
              "        vertical-align: middle;\n",
              "    }\n",
              "\n",
              "    .dataframe tbody tr th {\n",
              "        vertical-align: top;\n",
              "    }\n",
              "\n",
              "    .dataframe thead th {\n",
              "        text-align: right;\n",
              "    }\n",
              "</style>\n",
              "<table border=\"1\" class=\"dataframe\">\n",
              "  <thead>\n",
              "    <tr style=\"text-align: right;\">\n",
              "      <th></th>\n",
              "      <th>count</th>\n",
              "    </tr>\n",
              "    <tr>\n",
              "      <th>Suicidal thoughts</th>\n",
              "      <th></th>\n",
              "    </tr>\n",
              "  </thead>\n",
              "  <tbody>\n",
              "    <tr>\n",
              "      <th>NO</th>\n",
              "      <td>63</td>\n",
              "    </tr>\n",
              "    <tr>\n",
              "      <th>YES</th>\n",
              "      <td>57</td>\n",
              "    </tr>\n",
              "  </tbody>\n",
              "</table>\n",
              "</div><br><label><b>dtype:</b> int64</label>"
            ]
          },
          "metadata": {},
          "execution_count": 136
        }
      ]
    },
    {
      "cell_type": "code",
      "source": [
        "# order the levels\n",
        "categories = ['Seldom','Sometimes','Usually','Most-Often']\n",
        "\n",
        "ordinal_encoder = OrdinalEncoder(categories=[categories])\n",
        "\n",
        "df['Sadness'] = ordinal_encoder.fit_transform(df[['Sadness']])\n",
        "df['Euphoric'] = ordinal_encoder.fit_transform(df[['Euphoric']])\n",
        "df['Exhausted'] = ordinal_encoder.fit_transform(df[['Exhausted']])\n",
        "df['Sleep dissorder'] = ordinal_encoder.fit_transform(df[['Sleep dissorder']])\n"
      ],
      "metadata": {
        "id": "RVyobreuSQ6E"
      },
      "execution_count": 137,
      "outputs": []
    },
    {
      "cell_type": "code",
      "source": [
        "# convert the data type to numeric\n",
        "df['Sexual Activity'] = df['Sexual Activity'].str.extract('(\\d+)').astype('Int64').astype('int64')\n",
        "df['Concentration'] = df['Concentration'].str.extract('(\\d+)').astype('Int64').astype('int64')\n",
        "df['Optimisim'] = df['Optimisim'].str.extract('(\\d+)').astype('Int64').astype('int64')\n"
      ],
      "metadata": {
        "id": "UjO71CH7IOqD"
      },
      "execution_count": 138,
      "outputs": []
    },
    {
      "cell_type": "code",
      "source": [
        "df.info()"
      ],
      "metadata": {
        "colab": {
          "base_uri": "https://localhost:8080/"
        },
        "id": "6WrRZcy6VQcS",
        "outputId": "b8648201-1073-44ae-e2c6-e37915ea07f0"
      },
      "execution_count": 139,
      "outputs": [
        {
          "output_type": "stream",
          "name": "stdout",
          "text": [
            "<class 'pandas.core.frame.DataFrame'>\n",
            "RangeIndex: 120 entries, 0 to 119\n",
            "Data columns (total 18 columns):\n",
            " #   Column               Non-Null Count  Dtype  \n",
            "---  ------               --------------  -----  \n",
            " 0   Sadness              120 non-null    float64\n",
            " 1   Euphoric             120 non-null    float64\n",
            " 2   Exhausted            120 non-null    float64\n",
            " 3   Sleep dissorder      120 non-null    float64\n",
            " 4   Mood Swing           120 non-null    object \n",
            " 5   Suicidal thoughts    120 non-null    object \n",
            " 6   Anorxia              120 non-null    object \n",
            " 7   Authority Respect    120 non-null    object \n",
            " 8   Try-Explanation      120 non-null    object \n",
            " 9   Aggressive Response  120 non-null    object \n",
            " 10  Ignore & Move-On     120 non-null    object \n",
            " 11  Nervous Break-down   120 non-null    object \n",
            " 12  Admit Mistakes       120 non-null    object \n",
            " 13  Overthinking         120 non-null    object \n",
            " 14  Sexual Activity      120 non-null    int64  \n",
            " 15  Concentration        120 non-null    int64  \n",
            " 16  Optimisim            120 non-null    int64  \n",
            " 17  Expert Diagnose      120 non-null    object \n",
            "dtypes: float64(4), int64(3), object(11)\n",
            "memory usage: 17.0+ KB\n"
          ]
        }
      ]
    },
    {
      "cell_type": "code",
      "source": [
        "classes = df['Expert Diagnose']\n",
        "df = df.drop('Expert Diagnose',axis=1)"
      ],
      "metadata": {
        "id": "UwJKzya2W4fL"
      },
      "execution_count": 140,
      "outputs": []
    },
    {
      "cell_type": "code",
      "source": [
        "# One-hot encode remaining object columns\n",
        "remaining_categorical_colmns = df.select_dtypes(include='object').columns\n",
        "df = pd.get_dummies(df,remaining_categorical_colmns, drop_first=True)\n",
        "\n"
      ],
      "metadata": {
        "id": "PJs2P0TmU-ay"
      },
      "execution_count": 141,
      "outputs": []
    },
    {
      "cell_type": "code",
      "source": [
        "df.info()"
      ],
      "metadata": {
        "colab": {
          "base_uri": "https://localhost:8080/"
        },
        "id": "Q6CywoEgWicr",
        "outputId": "b6a1d342-24d9-4041-f805-50e037e88947"
      },
      "execution_count": 142,
      "outputs": [
        {
          "output_type": "stream",
          "name": "stdout",
          "text": [
            "<class 'pandas.core.frame.DataFrame'>\n",
            "RangeIndex: 120 entries, 0 to 119\n",
            "Data columns (total 17 columns):\n",
            " #   Column                   Non-Null Count  Dtype  \n",
            "---  ------                   --------------  -----  \n",
            " 0   Sadness                  120 non-null    float64\n",
            " 1   Euphoric                 120 non-null    float64\n",
            " 2   Exhausted                120 non-null    float64\n",
            " 3   Sleep dissorder          120 non-null    float64\n",
            " 4   Sexual Activity          120 non-null    int64  \n",
            " 5   Concentration            120 non-null    int64  \n",
            " 6   Optimisim                120 non-null    int64  \n",
            " 7   Mood Swing_YES           120 non-null    bool   \n",
            " 8   Suicidal thoughts_YES    120 non-null    bool   \n",
            " 9   Anorxia_YES              120 non-null    bool   \n",
            " 10  Authority Respect_YES    120 non-null    bool   \n",
            " 11  Try-Explanation_YES      120 non-null    bool   \n",
            " 12  Aggressive Response_YES  120 non-null    bool   \n",
            " 13  Ignore & Move-On_YES     120 non-null    bool   \n",
            " 14  Nervous Break-down_YES   120 non-null    bool   \n",
            " 15  Admit Mistakes_YES       120 non-null    bool   \n",
            " 16  Overthinking_YES         120 non-null    bool   \n",
            "dtypes: bool(10), float64(4), int64(3)\n",
            "memory usage: 7.9 KB\n"
          ]
        }
      ]
    },
    {
      "cell_type": "code",
      "source": [
        "df = pd.concat([df,classes],axis=1)"
      ],
      "metadata": {
        "id": "koAwnnscX2Py"
      },
      "execution_count": 143,
      "outputs": []
    },
    {
      "cell_type": "code",
      "source": [
        "X = df.drop('Expert Diagnose',axis=1)\n",
        "y = df['Expert Diagnose']"
      ],
      "metadata": {
        "id": "zyeYsZ8EZS_y"
      },
      "execution_count": 144,
      "outputs": []
    },
    {
      "cell_type": "code",
      "source": [
        "X_train, X_test, y_train, y_test = train_test_split(\n",
        "    X,\n",
        "    y,\n",
        "    test_size=0.2,                # 20% for testing\n",
        "    stratify=y,                   # Maintain class distribution\n",
        "    random_state=42               # For reproducibility\n",
        ")"
      ],
      "metadata": {
        "id": "rK7v1rkoX9my"
      },
      "execution_count": 145,
      "outputs": []
    },
    {
      "cell_type": "code",
      "source": [
        "X_train.shape"
      ],
      "metadata": {
        "colab": {
          "base_uri": "https://localhost:8080/"
        },
        "id": "d0mhvMG3ZfLD",
        "outputId": "bfb0f524-25eb-4b1c-8412-319bd153268c"
      },
      "execution_count": 146,
      "outputs": [
        {
          "output_type": "execute_result",
          "data": {
            "text/plain": [
              "(96, 17)"
            ]
          },
          "metadata": {},
          "execution_count": 146
        }
      ]
    },
    {
      "cell_type": "code",
      "source": [
        "# Specify feature types\n",
        "categorical_features = X.select_dtypes(include=['object']).columns  # Categorical columns\n",
        "continuous_features = X.select_dtypes(include=['float64','int64']).columns      # Continuous columns"
      ],
      "metadata": {
        "id": "czRJjFyF0SF6"
      },
      "execution_count": 167,
      "outputs": []
    },
    {
      "cell_type": "markdown",
      "source": [
        "we\n",
        "specially introduces independent iso-distribution test (chi-square test for\n",
        "classification variables and KS test for continuity variables) to ensure the\n",
        "consistency of data distribution of training set S and test set T, and avoid the impact\n",
        "of sampling error on the results."
      ],
      "metadata": {
        "id": "M-dtksT4kIVS"
      }
    },
    {
      "cell_type": "code",
      "source": [
        "def test_category_distribution(train, test, feature):\n",
        "    # Create contingency table\n",
        "    contingency = pd.crosstab(\n",
        "        index=np.concatenate([train[feature], test[feature]]),\n",
        "        columns=np.concatenate([\n",
        "            np.zeros(len(train)),\n",
        "            np.ones(len(test))\n",
        "        ])\n",
        "    )\n",
        "\n",
        "    chi2, p, _, _ = chi2_contingency(contingency)\n",
        "    return p > 0.05  # Return True if distributions are consistent\n",
        "\n",
        "def test_continuous_distribution(train, test, feature):\n",
        "    stat, p = ks_2samp(train[feature], test[feature])\n",
        "    return p > 0.05  # Return True if distributions are consistent"
      ],
      "metadata": {
        "id": "RL3yL6tdj18c"
      },
      "execution_count": null,
      "outputs": []
    },
    {
      "cell_type": "code",
      "source": [
        "# Generate Boostrap Sampling\n",
        "def generate_bootstrap_samples(X, y, categorical_features, continuous_features, n_samples=1000):\n",
        "    \"\"\"\n",
        "    Generate 1000 valid bootstrap samples with distribution consistency\n",
        "\n",
        "    Args:\n",
        "        X: Features DataFrame\n",
        "        y: Target array\n",
        "        categorical_features: List of categorical column names\n",
        "        continuous_features: List of continuous column names\n",
        "        n_samples: Number of valid samples to generate\n",
        "\n",
        "    Returns:\n",
        "        List of (X_train, X_test, y_train, y_test) tuples\n",
        "    \"\"\"\n",
        "    bootstrap_samples = []\n",
        "    attempts = 0\n",
        "    max_attempts = n_samples * 2  # Safety limit\n",
        "\n",
        "    # Initialize progress bar\n",
        "    pbar = tqdm(total=n_samples, desc=\"Generating bootstrap samples\")\n",
        "\n",
        "    while len(bootstrap_samples) < n_samples and attempts < max_attempts:\n",
        "        attempts += 1\n",
        "\n",
        "        # 1. Generate bootstrap sample\n",
        "        X_resampled, y_resampled = resample(X, y, replace=True, random_state=attempts)\n",
        "\n",
        "        # 2. Create stratified split (smaller test size for small samples)\n",
        "        try:\n",
        "            X_train, X_test, y_train, y_test = train_test_split(\n",
        "                X_resampled, y_resampled,\n",
        "                test_size=0.2,\n",
        "                stratify=y_resampled,\n",
        "                random_state=attempts\n",
        "            )\n",
        "        except ValueError:\n",
        "            continue  # Skip if stratification fails\n",
        "\n",
        "        # 3. Check distribution consistency for ALL specified features\n",
        "        valid = True\n",
        "\n",
        "        # Check categorical features\n",
        "        for feature in categorical_features:\n",
        "            try:\n",
        "                # Create contingency table\n",
        "                cont_table = pd.crosstab(\n",
        "                    index=np.concatenate([X_train[feature], X_test[feature]]),\n",
        "                    columns=np.concatenate([\n",
        "                        np.zeros(len(X_train)),\n",
        "                        np.ones(len(X_test))\n",
        "                    ])\n",
        "                )\n",
        "                # Check minimum size requirements\n",
        "                if cont_table.size < 4:  # At least 2x2 table\n",
        "                    valid = False\n",
        "                    break\n",
        "\n",
        "                _, pval, _, _ = chi2_contingency(cont_table)\n",
        "                if pval < 0.05:\n",
        "                    valid = False\n",
        "                    break\n",
        "            except:\n",
        "                valid = False\n",
        "                break\n",
        "\n",
        "        if not valid:\n",
        "            continue\n",
        "\n",
        "        # Check continuous features\n",
        "        for feature in continuous_features:\n",
        "            try:\n",
        "                _, pval = ks_2samp(X_train[feature], X_test[feature])\n",
        "                if pval < 0.05:\n",
        "                    valid = False\n",
        "                    break\n",
        "            except:\n",
        "                valid = False\n",
        "                break\n",
        "\n",
        "        # 4. Store if valid\n",
        "        if valid:\n",
        "            bootstrap_samples.append((X_train, X_test, y_train, y_test))\n",
        "            pbar.update(1)\n",
        "\n",
        "    pbar.close()\n",
        "\n",
        "    if len(bootstrap_samples) < n_samples:\n",
        "        print(f\"Warning: Only generated {len(bootstrap_samples)}/{n_samples} valid samples\")\n",
        "\n",
        "    return bootstrap_samples\n"
      ],
      "metadata": {
        "id": "Kb1UlwaboXmx"
      },
      "execution_count": 160,
      "outputs": []
    },
    {
      "cell_type": "code",
      "source": [
        "# model evaluate\n",
        "def evaluate_model_on_bootstrap(model, bootstrap_samples):\n",
        "    \"\"\"\n",
        "    Evaluate model on all bootstrap samples\n",
        "\n",
        "    Returns:\n",
        "        Array of evaluation scores\n",
        "    \"\"\"\n",
        "    accuracy_val = []\n",
        "\n",
        "\n",
        "    for i, (X_train, X_test, y_train, y_test) in enumerate(tqdm(\n",
        "        bootstrap_samples, desc=\"Evaluating models\")):\n",
        "\n",
        "        try:\n",
        "            model.fit(X_train, y_train)\n",
        "            accuracy = model.score(X_test, y_test)\n",
        "\n",
        "\n",
        "            accuracy_val.append(accuracy)\n",
        "\n",
        "\n",
        "        except:\n",
        "            #auc_val.append(np.nan)\n",
        "            accuracy_val.append(np.nan)\n",
        "\n",
        "    return accuracy_val"
      ],
      "metadata": {
        "id": "gdaUR6DBu3Qj"
      },
      "execution_count": 208,
      "outputs": []
    },
    {
      "cell_type": "markdown",
      "source": [
        "# Support Vector Machine"
      ],
      "metadata": {
        "id": "-ZTIM9dgbDla"
      }
    },
    {
      "cell_type": "code",
      "source": [
        "# SVM model\n",
        "from sklearn.svm import SVC\n",
        "\n",
        "svc = SVC()\n",
        "\n",
        "svc.fit(X_train,y_train)\n",
        "svc.score(X_test,y_test)"
      ],
      "metadata": {
        "colab": {
          "base_uri": "https://localhost:8080/"
        },
        "id": "60eJm5Oga5qJ",
        "outputId": "5fc25470-5862-4505-d9e6-94f215337456"
      },
      "execution_count": 147,
      "outputs": [
        {
          "output_type": "execute_result",
          "data": {
            "text/plain": [
              "0.8333333333333334"
            ]
          },
          "metadata": {},
          "execution_count": 147
        }
      ]
    },
    {
      "cell_type": "code",
      "source": [
        "param = {\n",
        "    'kernel': ['linear','poly','rbf'],\n",
        "    'C':[0.1,.4,.6,1,2,10,100,200]\n",
        "}\n",
        "svm_grid = GridSearchCV(svc,param)\n",
        "svm_grid.fit(X_train,y_train)\n",
        "\n",
        "svm_grid.best_params_"
      ],
      "metadata": {
        "colab": {
          "base_uri": "https://localhost:8080/"
        },
        "id": "piS1TznCeTwx",
        "outputId": "5011d7e4-8e24-498c-b043-6b64da969b22"
      },
      "execution_count": 153,
      "outputs": [
        {
          "output_type": "execute_result",
          "data": {
            "text/plain": [
              "{'C': 0.4, 'kernel': 'linear'}"
            ]
          },
          "metadata": {},
          "execution_count": 153
        }
      ]
    },
    {
      "cell_type": "code",
      "source": [
        "svc_new = SVC(C=0.4,kernel='linear')\n",
        "svc_new.fit(X_train,y_train)\n",
        "svc_new.score(X_test,y_test)\n",
        "#"
      ],
      "metadata": {
        "colab": {
          "base_uri": "https://localhost:8080/"
        },
        "id": "VKB34bqkgOQx",
        "outputId": "f317d7e3-6bdf-4706-98bd-41674104b367"
      },
      "execution_count": 155,
      "outputs": [
        {
          "output_type": "execute_result",
          "data": {
            "text/plain": [
              "0.9166666666666666"
            ]
          },
          "metadata": {},
          "execution_count": 155
        }
      ]
    },
    {
      "cell_type": "markdown",
      "source": [
        "### Evaluation with Bootstrap model"
      ],
      "metadata": {
        "id": "SvSOO2_64_dK"
      }
    },
    {
      "cell_type": "code",
      "source": [
        "# support vector machine\n",
        "if __name__ == \"__main__\":\n",
        "\n",
        "    # 1. Generate validated bootstrap samples\n",
        "    samples = generate_bootstrap_samples(\n",
        "        X, y,\n",
        "        categorical_features,\n",
        "        continuous_features,\n",
        "        n_samples=1000\n",
        "    )\n",
        "\n",
        "    # 2. Initialize model with best parameters\n",
        "    model = SVC(C=0.4,kernel='linear',probability=True)\n",
        "\n",
        "    # 3. Evaluate model\n",
        "    acc = evaluate_model_on_bootstrap(model, samples)\n",
        "\n",
        "    # 4. Analyze results\n",
        "    # 4. Analyze results\n",
        "    print(f\"\\nEvaluation Results from {len(acc)} valid bootstrap samples:\")\n",
        "    print(f\"Mean accuracy: {np.nanmean(acc):.3f}\")\n",
        "    print(f\"Standard deviation: {np.nanstd(acc):.3f}\")\n",
        "    print(f\"95% Confidence Interval: {np.nanpercentile(acc, [2.5, 97.5])}\")\n"
      ],
      "metadata": {
        "colab": {
          "base_uri": "https://localhost:8080/"
        },
        "id": "OY_Lxkim06FJ",
        "outputId": "822842af-c656-4a73-8516-f6b19d1ab6a1"
      },
      "execution_count": 210,
      "outputs": [
        {
          "output_type": "stream",
          "name": "stderr",
          "text": [
            "Generating bootstrap samples: 100%|██████████| 1000/1000 [00:09<00:00, 102.53it/s]\n",
            "Evaluating models: 100%|██████████| 1000/1000 [00:10<00:00, 95.00it/s]"
          ]
        },
        {
          "output_type": "stream",
          "name": "stdout",
          "text": [
            "\n",
            "Evaluation Results from 1000 valid bootstrap samples:\n",
            "Mean accuracy: 0.905\n",
            "Standard deviation: 0.063\n",
            "95% Confidence Interval: [0.75 1.  ]\n"
          ]
        },
        {
          "output_type": "stream",
          "name": "stderr",
          "text": [
            "\n"
          ]
        }
      ]
    },
    {
      "cell_type": "markdown",
      "source": [
        "# Random Forest"
      ],
      "metadata": {
        "id": "nz7lhD-Z1a6M"
      }
    },
    {
      "cell_type": "code",
      "source": [
        "# Random Forest\n",
        "from sklearn.ensemble import RandomForestClassifier\n",
        "\n",
        "rf = RandomForestClassifier()\n",
        "rf.fit(X_train, y_train)\n",
        "\n",
        "rf.score(X_test,y_test)"
      ],
      "metadata": {
        "colab": {
          "base_uri": "https://localhost:8080/"
        },
        "id": "4GZe5qFy1e2w",
        "outputId": "a0c4f9f6-4ddd-4b29-bd27-890e39cd5ed7"
      },
      "execution_count": 173,
      "outputs": [
        {
          "output_type": "execute_result",
          "data": {
            "text/plain": [
              "0.875"
            ]
          },
          "metadata": {},
          "execution_count": 173
        }
      ]
    },
    {
      "cell_type": "code",
      "source": [
        "param_dist = {'n_estimators': randint(50,500),\n",
        "              'max_depth': randint(1,20)}\n",
        "\n",
        "rand_search = RandomizedSearchCV(rf,\n",
        "                                 param_distributions = param_dist,\n",
        "                                 n_iter=5,\n",
        "                                 cv=5)\n",
        "\n",
        "rand_search.fit(X_train, y_train)\n",
        "rand_search.best_estimator_"
      ],
      "metadata": {
        "colab": {
          "base_uri": "https://localhost:8080/",
          "height": 80
        },
        "id": "MSwudzqX2aRs",
        "outputId": "e4c5b391-d81c-4c68-fa74-c1122c9dbbb0"
      },
      "execution_count": 178,
      "outputs": [
        {
          "output_type": "execute_result",
          "data": {
            "text/plain": [
              "RandomForestClassifier(max_depth=16, n_estimators=175)"
            ],
            "text/html": [
              "<style>#sk-container-id-2 {\n",
              "  /* Definition of color scheme common for light and dark mode */\n",
              "  --sklearn-color-text: #000;\n",
              "  --sklearn-color-text-muted: #666;\n",
              "  --sklearn-color-line: gray;\n",
              "  /* Definition of color scheme for unfitted estimators */\n",
              "  --sklearn-color-unfitted-level-0: #fff5e6;\n",
              "  --sklearn-color-unfitted-level-1: #f6e4d2;\n",
              "  --sklearn-color-unfitted-level-2: #ffe0b3;\n",
              "  --sklearn-color-unfitted-level-3: chocolate;\n",
              "  /* Definition of color scheme for fitted estimators */\n",
              "  --sklearn-color-fitted-level-0: #f0f8ff;\n",
              "  --sklearn-color-fitted-level-1: #d4ebff;\n",
              "  --sklearn-color-fitted-level-2: #b3dbfd;\n",
              "  --sklearn-color-fitted-level-3: cornflowerblue;\n",
              "\n",
              "  /* Specific color for light theme */\n",
              "  --sklearn-color-text-on-default-background: var(--sg-text-color, var(--theme-code-foreground, var(--jp-content-font-color1, black)));\n",
              "  --sklearn-color-background: var(--sg-background-color, var(--theme-background, var(--jp-layout-color0, white)));\n",
              "  --sklearn-color-border-box: var(--sg-text-color, var(--theme-code-foreground, var(--jp-content-font-color1, black)));\n",
              "  --sklearn-color-icon: #696969;\n",
              "\n",
              "  @media (prefers-color-scheme: dark) {\n",
              "    /* Redefinition of color scheme for dark theme */\n",
              "    --sklearn-color-text-on-default-background: var(--sg-text-color, var(--theme-code-foreground, var(--jp-content-font-color1, white)));\n",
              "    --sklearn-color-background: var(--sg-background-color, var(--theme-background, var(--jp-layout-color0, #111)));\n",
              "    --sklearn-color-border-box: var(--sg-text-color, var(--theme-code-foreground, var(--jp-content-font-color1, white)));\n",
              "    --sklearn-color-icon: #878787;\n",
              "  }\n",
              "}\n",
              "\n",
              "#sk-container-id-2 {\n",
              "  color: var(--sklearn-color-text);\n",
              "}\n",
              "\n",
              "#sk-container-id-2 pre {\n",
              "  padding: 0;\n",
              "}\n",
              "\n",
              "#sk-container-id-2 input.sk-hidden--visually {\n",
              "  border: 0;\n",
              "  clip: rect(1px 1px 1px 1px);\n",
              "  clip: rect(1px, 1px, 1px, 1px);\n",
              "  height: 1px;\n",
              "  margin: -1px;\n",
              "  overflow: hidden;\n",
              "  padding: 0;\n",
              "  position: absolute;\n",
              "  width: 1px;\n",
              "}\n",
              "\n",
              "#sk-container-id-2 div.sk-dashed-wrapped {\n",
              "  border: 1px dashed var(--sklearn-color-line);\n",
              "  margin: 0 0.4em 0.5em 0.4em;\n",
              "  box-sizing: border-box;\n",
              "  padding-bottom: 0.4em;\n",
              "  background-color: var(--sklearn-color-background);\n",
              "}\n",
              "\n",
              "#sk-container-id-2 div.sk-container {\n",
              "  /* jupyter's `normalize.less` sets `[hidden] { display: none; }`\n",
              "     but bootstrap.min.css set `[hidden] { display: none !important; }`\n",
              "     so we also need the `!important` here to be able to override the\n",
              "     default hidden behavior on the sphinx rendered scikit-learn.org.\n",
              "     See: https://github.com/scikit-learn/scikit-learn/issues/21755 */\n",
              "  display: inline-block !important;\n",
              "  position: relative;\n",
              "}\n",
              "\n",
              "#sk-container-id-2 div.sk-text-repr-fallback {\n",
              "  display: none;\n",
              "}\n",
              "\n",
              "div.sk-parallel-item,\n",
              "div.sk-serial,\n",
              "div.sk-item {\n",
              "  /* draw centered vertical line to link estimators */\n",
              "  background-image: linear-gradient(var(--sklearn-color-text-on-default-background), var(--sklearn-color-text-on-default-background));\n",
              "  background-size: 2px 100%;\n",
              "  background-repeat: no-repeat;\n",
              "  background-position: center center;\n",
              "}\n",
              "\n",
              "/* Parallel-specific style estimator block */\n",
              "\n",
              "#sk-container-id-2 div.sk-parallel-item::after {\n",
              "  content: \"\";\n",
              "  width: 100%;\n",
              "  border-bottom: 2px solid var(--sklearn-color-text-on-default-background);\n",
              "  flex-grow: 1;\n",
              "}\n",
              "\n",
              "#sk-container-id-2 div.sk-parallel {\n",
              "  display: flex;\n",
              "  align-items: stretch;\n",
              "  justify-content: center;\n",
              "  background-color: var(--sklearn-color-background);\n",
              "  position: relative;\n",
              "}\n",
              "\n",
              "#sk-container-id-2 div.sk-parallel-item {\n",
              "  display: flex;\n",
              "  flex-direction: column;\n",
              "}\n",
              "\n",
              "#sk-container-id-2 div.sk-parallel-item:first-child::after {\n",
              "  align-self: flex-end;\n",
              "  width: 50%;\n",
              "}\n",
              "\n",
              "#sk-container-id-2 div.sk-parallel-item:last-child::after {\n",
              "  align-self: flex-start;\n",
              "  width: 50%;\n",
              "}\n",
              "\n",
              "#sk-container-id-2 div.sk-parallel-item:only-child::after {\n",
              "  width: 0;\n",
              "}\n",
              "\n",
              "/* Serial-specific style estimator block */\n",
              "\n",
              "#sk-container-id-2 div.sk-serial {\n",
              "  display: flex;\n",
              "  flex-direction: column;\n",
              "  align-items: center;\n",
              "  background-color: var(--sklearn-color-background);\n",
              "  padding-right: 1em;\n",
              "  padding-left: 1em;\n",
              "}\n",
              "\n",
              "\n",
              "/* Toggleable style: style used for estimator/Pipeline/ColumnTransformer box that is\n",
              "clickable and can be expanded/collapsed.\n",
              "- Pipeline and ColumnTransformer use this feature and define the default style\n",
              "- Estimators will overwrite some part of the style using the `sk-estimator` class\n",
              "*/\n",
              "\n",
              "/* Pipeline and ColumnTransformer style (default) */\n",
              "\n",
              "#sk-container-id-2 div.sk-toggleable {\n",
              "  /* Default theme specific background. It is overwritten whether we have a\n",
              "  specific estimator or a Pipeline/ColumnTransformer */\n",
              "  background-color: var(--sklearn-color-background);\n",
              "}\n",
              "\n",
              "/* Toggleable label */\n",
              "#sk-container-id-2 label.sk-toggleable__label {\n",
              "  cursor: pointer;\n",
              "  display: flex;\n",
              "  width: 100%;\n",
              "  margin-bottom: 0;\n",
              "  padding: 0.5em;\n",
              "  box-sizing: border-box;\n",
              "  text-align: center;\n",
              "  align-items: start;\n",
              "  justify-content: space-between;\n",
              "  gap: 0.5em;\n",
              "}\n",
              "\n",
              "#sk-container-id-2 label.sk-toggleable__label .caption {\n",
              "  font-size: 0.6rem;\n",
              "  font-weight: lighter;\n",
              "  color: var(--sklearn-color-text-muted);\n",
              "}\n",
              "\n",
              "#sk-container-id-2 label.sk-toggleable__label-arrow:before {\n",
              "  /* Arrow on the left of the label */\n",
              "  content: \"▸\";\n",
              "  float: left;\n",
              "  margin-right: 0.25em;\n",
              "  color: var(--sklearn-color-icon);\n",
              "}\n",
              "\n",
              "#sk-container-id-2 label.sk-toggleable__label-arrow:hover:before {\n",
              "  color: var(--sklearn-color-text);\n",
              "}\n",
              "\n",
              "/* Toggleable content - dropdown */\n",
              "\n",
              "#sk-container-id-2 div.sk-toggleable__content {\n",
              "  max-height: 0;\n",
              "  max-width: 0;\n",
              "  overflow: hidden;\n",
              "  text-align: left;\n",
              "  /* unfitted */\n",
              "  background-color: var(--sklearn-color-unfitted-level-0);\n",
              "}\n",
              "\n",
              "#sk-container-id-2 div.sk-toggleable__content.fitted {\n",
              "  /* fitted */\n",
              "  background-color: var(--sklearn-color-fitted-level-0);\n",
              "}\n",
              "\n",
              "#sk-container-id-2 div.sk-toggleable__content pre {\n",
              "  margin: 0.2em;\n",
              "  border-radius: 0.25em;\n",
              "  color: var(--sklearn-color-text);\n",
              "  /* unfitted */\n",
              "  background-color: var(--sklearn-color-unfitted-level-0);\n",
              "}\n",
              "\n",
              "#sk-container-id-2 div.sk-toggleable__content.fitted pre {\n",
              "  /* unfitted */\n",
              "  background-color: var(--sklearn-color-fitted-level-0);\n",
              "}\n",
              "\n",
              "#sk-container-id-2 input.sk-toggleable__control:checked~div.sk-toggleable__content {\n",
              "  /* Expand drop-down */\n",
              "  max-height: 200px;\n",
              "  max-width: 100%;\n",
              "  overflow: auto;\n",
              "}\n",
              "\n",
              "#sk-container-id-2 input.sk-toggleable__control:checked~label.sk-toggleable__label-arrow:before {\n",
              "  content: \"▾\";\n",
              "}\n",
              "\n",
              "/* Pipeline/ColumnTransformer-specific style */\n",
              "\n",
              "#sk-container-id-2 div.sk-label input.sk-toggleable__control:checked~label.sk-toggleable__label {\n",
              "  color: var(--sklearn-color-text);\n",
              "  background-color: var(--sklearn-color-unfitted-level-2);\n",
              "}\n",
              "\n",
              "#sk-container-id-2 div.sk-label.fitted input.sk-toggleable__control:checked~label.sk-toggleable__label {\n",
              "  background-color: var(--sklearn-color-fitted-level-2);\n",
              "}\n",
              "\n",
              "/* Estimator-specific style */\n",
              "\n",
              "/* Colorize estimator box */\n",
              "#sk-container-id-2 div.sk-estimator input.sk-toggleable__control:checked~label.sk-toggleable__label {\n",
              "  /* unfitted */\n",
              "  background-color: var(--sklearn-color-unfitted-level-2);\n",
              "}\n",
              "\n",
              "#sk-container-id-2 div.sk-estimator.fitted input.sk-toggleable__control:checked~label.sk-toggleable__label {\n",
              "  /* fitted */\n",
              "  background-color: var(--sklearn-color-fitted-level-2);\n",
              "}\n",
              "\n",
              "#sk-container-id-2 div.sk-label label.sk-toggleable__label,\n",
              "#sk-container-id-2 div.sk-label label {\n",
              "  /* The background is the default theme color */\n",
              "  color: var(--sklearn-color-text-on-default-background);\n",
              "}\n",
              "\n",
              "/* On hover, darken the color of the background */\n",
              "#sk-container-id-2 div.sk-label:hover label.sk-toggleable__label {\n",
              "  color: var(--sklearn-color-text);\n",
              "  background-color: var(--sklearn-color-unfitted-level-2);\n",
              "}\n",
              "\n",
              "/* Label box, darken color on hover, fitted */\n",
              "#sk-container-id-2 div.sk-label.fitted:hover label.sk-toggleable__label.fitted {\n",
              "  color: var(--sklearn-color-text);\n",
              "  background-color: var(--sklearn-color-fitted-level-2);\n",
              "}\n",
              "\n",
              "/* Estimator label */\n",
              "\n",
              "#sk-container-id-2 div.sk-label label {\n",
              "  font-family: monospace;\n",
              "  font-weight: bold;\n",
              "  display: inline-block;\n",
              "  line-height: 1.2em;\n",
              "}\n",
              "\n",
              "#sk-container-id-2 div.sk-label-container {\n",
              "  text-align: center;\n",
              "}\n",
              "\n",
              "/* Estimator-specific */\n",
              "#sk-container-id-2 div.sk-estimator {\n",
              "  font-family: monospace;\n",
              "  border: 1px dotted var(--sklearn-color-border-box);\n",
              "  border-radius: 0.25em;\n",
              "  box-sizing: border-box;\n",
              "  margin-bottom: 0.5em;\n",
              "  /* unfitted */\n",
              "  background-color: var(--sklearn-color-unfitted-level-0);\n",
              "}\n",
              "\n",
              "#sk-container-id-2 div.sk-estimator.fitted {\n",
              "  /* fitted */\n",
              "  background-color: var(--sklearn-color-fitted-level-0);\n",
              "}\n",
              "\n",
              "/* on hover */\n",
              "#sk-container-id-2 div.sk-estimator:hover {\n",
              "  /* unfitted */\n",
              "  background-color: var(--sklearn-color-unfitted-level-2);\n",
              "}\n",
              "\n",
              "#sk-container-id-2 div.sk-estimator.fitted:hover {\n",
              "  /* fitted */\n",
              "  background-color: var(--sklearn-color-fitted-level-2);\n",
              "}\n",
              "\n",
              "/* Specification for estimator info (e.g. \"i\" and \"?\") */\n",
              "\n",
              "/* Common style for \"i\" and \"?\" */\n",
              "\n",
              ".sk-estimator-doc-link,\n",
              "a:link.sk-estimator-doc-link,\n",
              "a:visited.sk-estimator-doc-link {\n",
              "  float: right;\n",
              "  font-size: smaller;\n",
              "  line-height: 1em;\n",
              "  font-family: monospace;\n",
              "  background-color: var(--sklearn-color-background);\n",
              "  border-radius: 1em;\n",
              "  height: 1em;\n",
              "  width: 1em;\n",
              "  text-decoration: none !important;\n",
              "  margin-left: 0.5em;\n",
              "  text-align: center;\n",
              "  /* unfitted */\n",
              "  border: var(--sklearn-color-unfitted-level-1) 1pt solid;\n",
              "  color: var(--sklearn-color-unfitted-level-1);\n",
              "}\n",
              "\n",
              ".sk-estimator-doc-link.fitted,\n",
              "a:link.sk-estimator-doc-link.fitted,\n",
              "a:visited.sk-estimator-doc-link.fitted {\n",
              "  /* fitted */\n",
              "  border: var(--sklearn-color-fitted-level-1) 1pt solid;\n",
              "  color: var(--sklearn-color-fitted-level-1);\n",
              "}\n",
              "\n",
              "/* On hover */\n",
              "div.sk-estimator:hover .sk-estimator-doc-link:hover,\n",
              ".sk-estimator-doc-link:hover,\n",
              "div.sk-label-container:hover .sk-estimator-doc-link:hover,\n",
              ".sk-estimator-doc-link:hover {\n",
              "  /* unfitted */\n",
              "  background-color: var(--sklearn-color-unfitted-level-3);\n",
              "  color: var(--sklearn-color-background);\n",
              "  text-decoration: none;\n",
              "}\n",
              "\n",
              "div.sk-estimator.fitted:hover .sk-estimator-doc-link.fitted:hover,\n",
              ".sk-estimator-doc-link.fitted:hover,\n",
              "div.sk-label-container:hover .sk-estimator-doc-link.fitted:hover,\n",
              ".sk-estimator-doc-link.fitted:hover {\n",
              "  /* fitted */\n",
              "  background-color: var(--sklearn-color-fitted-level-3);\n",
              "  color: var(--sklearn-color-background);\n",
              "  text-decoration: none;\n",
              "}\n",
              "\n",
              "/* Span, style for the box shown on hovering the info icon */\n",
              ".sk-estimator-doc-link span {\n",
              "  display: none;\n",
              "  z-index: 9999;\n",
              "  position: relative;\n",
              "  font-weight: normal;\n",
              "  right: .2ex;\n",
              "  padding: .5ex;\n",
              "  margin: .5ex;\n",
              "  width: min-content;\n",
              "  min-width: 20ex;\n",
              "  max-width: 50ex;\n",
              "  color: var(--sklearn-color-text);\n",
              "  box-shadow: 2pt 2pt 4pt #999;\n",
              "  /* unfitted */\n",
              "  background: var(--sklearn-color-unfitted-level-0);\n",
              "  border: .5pt solid var(--sklearn-color-unfitted-level-3);\n",
              "}\n",
              "\n",
              ".sk-estimator-doc-link.fitted span {\n",
              "  /* fitted */\n",
              "  background: var(--sklearn-color-fitted-level-0);\n",
              "  border: var(--sklearn-color-fitted-level-3);\n",
              "}\n",
              "\n",
              ".sk-estimator-doc-link:hover span {\n",
              "  display: block;\n",
              "}\n",
              "\n",
              "/* \"?\"-specific style due to the `<a>` HTML tag */\n",
              "\n",
              "#sk-container-id-2 a.estimator_doc_link {\n",
              "  float: right;\n",
              "  font-size: 1rem;\n",
              "  line-height: 1em;\n",
              "  font-family: monospace;\n",
              "  background-color: var(--sklearn-color-background);\n",
              "  border-radius: 1rem;\n",
              "  height: 1rem;\n",
              "  width: 1rem;\n",
              "  text-decoration: none;\n",
              "  /* unfitted */\n",
              "  color: var(--sklearn-color-unfitted-level-1);\n",
              "  border: var(--sklearn-color-unfitted-level-1) 1pt solid;\n",
              "}\n",
              "\n",
              "#sk-container-id-2 a.estimator_doc_link.fitted {\n",
              "  /* fitted */\n",
              "  border: var(--sklearn-color-fitted-level-1) 1pt solid;\n",
              "  color: var(--sklearn-color-fitted-level-1);\n",
              "}\n",
              "\n",
              "/* On hover */\n",
              "#sk-container-id-2 a.estimator_doc_link:hover {\n",
              "  /* unfitted */\n",
              "  background-color: var(--sklearn-color-unfitted-level-3);\n",
              "  color: var(--sklearn-color-background);\n",
              "  text-decoration: none;\n",
              "}\n",
              "\n",
              "#sk-container-id-2 a.estimator_doc_link.fitted:hover {\n",
              "  /* fitted */\n",
              "  background-color: var(--sklearn-color-fitted-level-3);\n",
              "}\n",
              "</style><div id=\"sk-container-id-2\" class=\"sk-top-container\"><div class=\"sk-text-repr-fallback\"><pre>RandomForestClassifier(max_depth=16, n_estimators=175)</pre><b>In a Jupyter environment, please rerun this cell to show the HTML representation or trust the notebook. <br />On GitHub, the HTML representation is unable to render, please try loading this page with nbviewer.org.</b></div><div class=\"sk-container\" hidden><div class=\"sk-item\"><div class=\"sk-estimator fitted sk-toggleable\"><input class=\"sk-toggleable__control sk-hidden--visually\" id=\"sk-estimator-id-2\" type=\"checkbox\" checked><label for=\"sk-estimator-id-2\" class=\"sk-toggleable__label fitted sk-toggleable__label-arrow\"><div><div>RandomForestClassifier</div></div><div><a class=\"sk-estimator-doc-link fitted\" rel=\"noreferrer\" target=\"_blank\" href=\"https://scikit-learn.org/1.6/modules/generated/sklearn.ensemble.RandomForestClassifier.html\">?<span>Documentation for RandomForestClassifier</span></a><span class=\"sk-estimator-doc-link fitted\">i<span>Fitted</span></span></div></label><div class=\"sk-toggleable__content fitted\"><pre>RandomForestClassifier(max_depth=16, n_estimators=175)</pre></div> </div></div></div></div>"
            ]
          },
          "metadata": {},
          "execution_count": 178
        }
      ]
    },
    {
      "cell_type": "code",
      "source": [
        "rf_new = RandomForestClassifier(max_depth=2, n_estimators=318)\n",
        "rf_new.fit(X_train,y_train)\n",
        "rf_new.score(X_test,y_test)"
      ],
      "metadata": {
        "colab": {
          "base_uri": "https://localhost:8080/"
        },
        "id": "eb6CEPc63h1z",
        "outputId": "9e1e7a0c-4c2c-4457-84a2-a654595dcb63"
      },
      "execution_count": 175,
      "outputs": [
        {
          "output_type": "execute_result",
          "data": {
            "text/plain": [
              "0.9166666666666666"
            ]
          },
          "metadata": {},
          "execution_count": 175
        }
      ]
    },
    {
      "cell_type": "markdown",
      "source": [
        "### Evaluation with Bootstrap model"
      ],
      "metadata": {
        "id": "b2OGbCcb42Uq"
      }
    },
    {
      "cell_type": "code",
      "source": [
        "# Random Forest\n",
        "if __name__ == \"__main__\":\n",
        "\n",
        "    # 1. Generate validated bootstrap samples\n",
        "    samples = generate_bootstrap_samples(\n",
        "        X, y,\n",
        "        categorical_features,\n",
        "        continuous_features,\n",
        "        n_samples=1000\n",
        "    )\n",
        "\n",
        "    # 2. Initialize model with best parameters\n",
        "    model = RandomForestClassifier(max_depth=16, n_estimators=175)\n",
        "\n",
        "     # 3. Evaluate model\n",
        "    scores = evaluate_model_on_bootstrap(model, samples)\n",
        "\n",
        "    # 4. Analyze results\n",
        "    print(f\"\\nEvaluation Results from {len(scores)} valid bootstrap samples:\")\n",
        "    print(f\"Mean accuracy: {np.nanmean(scores):.3f}\")\n",
        "    print(f\"Standard deviation: {np.nanstd(scores):.3f}\")\n",
        "    print(f\"95% Confidence Interval: {np.nanpercentile(scores, [2.5, 97.5])}\")"
      ],
      "metadata": {
        "colab": {
          "base_uri": "https://localhost:8080/"
        },
        "id": "qgtCmY4133ya",
        "outputId": "46a81854-d088-4dc9-9ff5-89f106593349"
      },
      "execution_count": 212,
      "outputs": [
        {
          "output_type": "stream",
          "name": "stderr",
          "text": [
            "Generating bootstrap samples: 100%|██████████| 1000/1000 [00:11<00:00, 86.30it/s]\n",
            "Evaluating models: 100%|██████████| 1000/1000 [04:56<00:00,  3.38it/s]"
          ]
        },
        {
          "output_type": "stream",
          "name": "stdout",
          "text": [
            "\n",
            "Evaluation Results from 1000 valid bootstrap samples:\n",
            "Mean accuracy: 0.943\n",
            "Standard deviation: 0.052\n",
            "95% Confidence Interval: [0.79166667 1.        ]\n"
          ]
        },
        {
          "output_type": "stream",
          "name": "stderr",
          "text": [
            "\n"
          ]
        }
      ]
    },
    {
      "cell_type": "markdown",
      "source": [],
      "metadata": {
        "id": "9bDiTJBzLl3Y"
      }
    },
    {
      "cell_type": "code",
      "source": [
        "import matplotlib.pyplot as plt\n",
        "from sklearn import metrics\n",
        "\n",
        "predicted = model.predict(X_test)\n",
        "confusion_matrix = metrics.confusion_matrix(y_test, predicted)\n",
        "\n",
        "class_labels = [\"Bipolar Type-1\", \"Bipolar Type-2\", \"Depression\", \"Normal\"]\n",
        "\n",
        "# Plot with custom labels\n",
        "cm_display = metrics.ConfusionMatrixDisplay(\n",
        "    confusion_matrix=confusion_matrix,\n",
        "    display_labels=class_labels\n",
        ")\n",
        "\n",
        "cm_display.plot(cmap=\"Blues\")\n",
        "plt.title(\"Confusion Matrix\")\n",
        "\n",
        "# Rotate x-axis labels (adjust angle as needed)\n",
        "plt.xticks(rotation=45, ha='right')  # 'ha' aligns labels properly after rotation\n",
        "\n",
        "# Adjust layout to prevent label cutoff\n",
        "plt.tight_layout()\n",
        "plt.show()"
      ],
      "metadata": {
        "colab": {
          "base_uri": "https://localhost:8080/",
          "height": 487
        },
        "id": "-AI03rOjHsgJ",
        "outputId": "32348dc1-8b78-4c5d-e83d-160046ae433a"
      },
      "execution_count": 220,
      "outputs": [
        {
          "output_type": "display_data",
          "data": {
            "text/plain": [
              "<Figure size 640x480 with 2 Axes>"
            ],
            "image/png": "[encoded data removed]"
          },
          "metadata": {}
        }
      ]
    },
    {
      "cell_type": "code",
      "source": [
        "predicted"
      ],
      "metadata": {
        "colab": {
          "base_uri": "https://localhost:8080/"
        },
        "id": "Y1Cej9jOMYWS",
        "outputId": "93edf3c9-3155-4073-dc0d-5377e1e14d56"
      },
      "execution_count": 216,
      "outputs": [
        {
          "output_type": "execute_result",
          "data": {
            "text/plain": [
              "array(['Depression', 'Depression', 'Depression', 'Bipolar Type-1',\n",
              "       'Bipolar Type-2', 'Bipolar Type-1', 'Bipolar Type-2',\n",
              "       'Bipolar Type-1', 'Bipolar Type-2', 'Depression', 'Normal',\n",
              "       'Normal', 'Bipolar Type-1', 'Bipolar Type-2', 'Normal',\n",
              "       'Depression', 'Depression', 'Bipolar Type-2', 'Bipolar Type-1',\n",
              "       'Bipolar Type-1', 'Bipolar Type-2', 'Normal', 'Bipolar Type-1',\n",
              "       'Normal'], dtype=object)"
            ]
          },
          "metadata": {},
          "execution_count": 216
        }
      ]
    }
  ]
}